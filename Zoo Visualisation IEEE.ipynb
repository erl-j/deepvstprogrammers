{
 "cells": [
  {
   "cell_type": "code",
   "execution_count": 33,
   "metadata": {
    "collapsed": true
   },
   "outputs": [],
   "source": [
    "number = \"six\" "
   ]
  },
  {
   "cell_type": "code",
   "execution_count": 2,
   "metadata": {},
   "outputs": [
    {
     "ename": "NameError",
     "evalue": "name 'number' is not defined",
     "output_type": "error",
     "traceback": [
      "\u001b[0;31m---------------------------------------------------------------------------\u001b[0m",
      "\u001b[0;31mNameError\u001b[0m                                 Traceback (most recent call last)",
      "\u001b[0;32m<ipython-input-2-8b1724d6d15a>\u001b[0m in \u001b[0;36m<module>\u001b[0;34m()\u001b[0m\n\u001b[0;32m----> 1\u001b[0;31m \u001b[0moperator_folder\u001b[0m \u001b[0;34m=\u001b[0m \u001b[0mnumber\u001b[0m \u001b[0;34m+\u001b[0m \u001b[0;34m\"_operator\"\u001b[0m\u001b[0;34m\u001b[0m\u001b[0m\n\u001b[0m\u001b[1;32m      2\u001b[0m \u001b[0;34m\u001b[0m\u001b[0m\n\u001b[1;32m      3\u001b[0m \u001b[0;32mimport\u001b[0m \u001b[0msys\u001b[0m\u001b[0;34m\u001b[0m\u001b[0m\n\u001b[1;32m      4\u001b[0m \u001b[0;32mimport\u001b[0m \u001b[0mos\u001b[0m\u001b[0;34m\u001b[0m\u001b[0m\n\u001b[1;32m      5\u001b[0m \u001b[0;32mimport\u001b[0m \u001b[0mcPickle\u001b[0m \u001b[0;32mas\u001b[0m \u001b[0mpickle\u001b[0m\u001b[0;34m\u001b[0m\u001b[0m\n",
      "\u001b[0;31mNameError\u001b[0m: name 'number' is not defined"
     ]
    }
   ],
   "source": [
    "operator_folder = number + \"_operator\"\n",
    "\n",
    "import sys\n",
    "import os\n",
    "import cPickle as pickle\n",
    "import matplotlib.pyplot as plt\n",
    "%matplotlib inline\n",
    "import numpy as np\n",
    "\n",
    "sys.path.append('utils')\n",
    "from utility_functions import display_stats, plot_error, write_wavs\n",
    "from IPython.display import Audio\n",
    "from plugin_feature_extractor import PluginFeatureExtractor\n",
    "\n",
    "hist_threshold = 23\n",
    "\n",
    "np.random.seed(8)\n",
    "sampleRate = 44100\n",
    "data_folder = \"data/overriden/\" + operator_folder + \"/\"\n",
    "overriden_parameters = np.load(data_folder + \"overriden_parameters.npy\").tolist()\n",
    "\n",
    "print 155 - len(overriden_parameters)\n",
    "extractor = PluginFeatureExtractor(midi_note=24, note_length_secs=0.4,\n",
    "                                   desired_features=[i for i in range(8, 21)],\n",
    "                                   overriden_parameters=overriden_parameters,\n",
    "                                   render_length_secs=0.7,\n",
    "                                   pickle_path=\"utils/normalisers\",\n",
    "                                   warning_mode=\"ignore\",\n",
    "                                   normalise_audio=False)\n",
    "path = \"/home/tollie/Development/vsts/dexed/Builds/Linux/build/Dexed.so\"\n",
    "extractor.load_plugin(path)"
   ]
  },
  {
   "cell_type": "code",
   "execution_count": 3,
   "metadata": {},
   "outputs": [
    {
     "ename": "NameError",
     "evalue": "name 'operator_folder' is not defined",
     "output_type": "error",
     "traceback": [
      "\u001b[0;31m---------------------------------------------------------------------------\u001b[0m",
      "\u001b[0;31mNameError\u001b[0m                                 Traceback (most recent call last)",
      "\u001b[0;32m<ipython-input-3-e6dd28541051>\u001b[0m in \u001b[0;36m<module>\u001b[0;34m()\u001b[0m\n\u001b[0;32m----> 1\u001b[0;31m \u001b[0mfolder\u001b[0m \u001b[0;34m=\u001b[0m \u001b[0moperator_folder\u001b[0m\u001b[0;34m\u001b[0m\u001b[0m\n\u001b[0m\u001b[1;32m      2\u001b[0m \u001b[0;34m\u001b[0m\u001b[0m\n\u001b[1;32m      3\u001b[0m \u001b[0;32mfrom\u001b[0m \u001b[0mIPython\u001b[0m\u001b[0;34m.\u001b[0m\u001b[0mdisplay\u001b[0m \u001b[0;32mimport\u001b[0m \u001b[0mAudio\u001b[0m\u001b[0;34m\u001b[0m\u001b[0m\n\u001b[1;32m      4\u001b[0m \u001b[0;34m\u001b[0m\u001b[0m\n\u001b[1;32m      5\u001b[0m \u001b[0;32mdef\u001b[0m \u001b[0mvisualise_prediction\u001b[0m\u001b[0;34m(\u001b[0m\u001b[0mactual_patch\u001b[0m\u001b[0;34m,\u001b[0m \u001b[0mpredicted_patch\u001b[0m\u001b[0;34m)\u001b[0m\u001b[0;34m:\u001b[0m\u001b[0;34m\u001b[0m\u001b[0m\n",
      "\u001b[0;31mNameError\u001b[0m: name 'operator_folder' is not defined"
     ]
    }
   ],
   "source": [
    "folder = operator_folder\n",
    "\n",
    "from IPython.display import Audio\n",
    "\n",
    "def visualise_prediction(actual_patch, predicted_patch):\n",
    "    predicted_full_patch = extractor.partial_patch_to_patch(predicted_patch)\n",
    "    predicted_patch_with_indices = extractor.add_patch_indices(predicted_full_patch)\n",
    "    if extractor.set_patch(predicted_patch_with_indices):\n",
    "        audio_predicted = extractor.get_audio_frames()\n",
    "\n",
    "    actual_full_patch = extractor.partial_patch_to_patch(actual_patch)\n",
    "    actual_patch_with_indices = extractor.add_patch_indices(actual_full_patch)\n",
    "    if extractor.set_patch(actual_patch_with_indices):\n",
    "        audio_actual = extractor.get_audio_frames()\n",
    "\n",
    "    fig = plt.figure()\n",
    "    plt.figure(figsize=(14,9))\n",
    "    plt.subplot(221)\n",
    "    ax1 = plt.specgram(audio_predicted, NFFT=512, Fs=sampleRate, noverlap=256)\n",
    "    fig.subplots_adjust(hspace=2, wspace=4)\n",
    "    # plt.xlabel('Time (seconds)')\n",
    "    plt.ylabel('Frequency')\n",
    "    plt.title('predicted spectrogram')\n",
    "\n",
    "    plt.subplot(222)\n",
    "    ax2 = plt.plot(audio_predicted)\n",
    "    fig.subplots_adjust(hspace=2, wspace=4)\n",
    "    # plt.xlabel('Time (frame count)')\n",
    "    plt.ylabel('Amplitude')\n",
    "    plt.title('predicted audio')\n",
    "\n",
    "    plt.subplot(223)\n",
    "    ax3 = plt.specgram(audio_actual, NFFT=512, Fs=sampleRate, noverlap=256)\n",
    "    fig.subplots_adjust(hspace=2, wspace=4)\n",
    "    plt.xlabel('Time (seconds)')\n",
    "    plt.ylabel('Frequency')\n",
    "    plt.title('actual spectrogram')\n",
    "\n",
    "    plt.subplot(224)\n",
    "    ax4 = plt.plot(audio_actual)\n",
    "    fig.subplots_adjust(hspace=2, wspace=4)\n",
    "    plt.xlabel('Time (frame count)')\n",
    "    plt.ylabel('Amplitude')\n",
    "    plt.title('actual audio')\n",
    "    plt.show()"
   ]
  },
  {
   "cell_type": "code",
   "execution_count": 4,
   "metadata": {},
   "outputs": [
    {
     "ename": "NameError",
     "evalue": "name 'pickle' is not defined",
     "output_type": "error",
     "traceback": [
      "\u001b[0;31m---------------------------------------------------------------------------\u001b[0m",
      "\u001b[0;31mNameError\u001b[0m                                 Traceback (most recent call last)",
      "\u001b[0;32m<ipython-input-4-91e62a1b10c4>\u001b[0m in \u001b[0;36m<module>\u001b[0;34m()\u001b[0m\n\u001b[0;32m----> 1\u001b[0;31m \u001b[0mall_models_error\u001b[0m \u001b[0;34m=\u001b[0m \u001b[0mpickle\u001b[0m\u001b[0;34m.\u001b[0m\u001b[0mload\u001b[0m\u001b[0;34m(\u001b[0m\u001b[0mopen\u001b[0m\u001b[0;34m(\u001b[0m\u001b[0;34m\"stats/\"\u001b[0m \u001b[0;34m+\u001b[0m \u001b[0mfolder\u001b[0m \u001b[0;34m+\u001b[0m \u001b[0;34m\"/all_models_error.p\"\u001b[0m\u001b[0;34m,\u001b[0m \u001b[0;34m\"rb\"\u001b[0m\u001b[0;34m)\u001b[0m\u001b[0;34m)\u001b[0m\u001b[0;34m.\u001b[0m\u001b[0mitems\u001b[0m\u001b[0;34m(\u001b[0m\u001b[0;34m)\u001b[0m\u001b[0;34m\u001b[0m\u001b[0m\n\u001b[0m\u001b[1;32m      2\u001b[0m \u001b[0;34m\u001b[0m\u001b[0m\n\u001b[1;32m      3\u001b[0m \u001b[0;32mtry\u001b[0m\u001b[0;34m:\u001b[0m\u001b[0;34m\u001b[0m\u001b[0m\n\u001b[1;32m      4\u001b[0m     \u001b[0mall_ga_error\u001b[0m \u001b[0;34m=\u001b[0m \u001b[0mpickle\u001b[0m\u001b[0;34m.\u001b[0m\u001b[0mload\u001b[0m\u001b[0;34m(\u001b[0m\u001b[0mopen\u001b[0m\u001b[0;34m(\u001b[0m\u001b[0;34m\"stats/\"\u001b[0m \u001b[0;34m+\u001b[0m \u001b[0mfolder\u001b[0m \u001b[0;34m+\u001b[0m \u001b[0;34m\"/ga_models_error.p\"\u001b[0m\u001b[0;34m,\u001b[0m \u001b[0;34m\"rb\"\u001b[0m\u001b[0;34m)\u001b[0m\u001b[0;34m)\u001b[0m\u001b[0;34m.\u001b[0m\u001b[0mitems\u001b[0m\u001b[0;34m(\u001b[0m\u001b[0;34m)\u001b[0m\u001b[0;34m\u001b[0m\u001b[0m\n\u001b[1;32m      5\u001b[0m     \u001b[0mall_models_error\u001b[0m\u001b[0;34m.\u001b[0m\u001b[0mextend\u001b[0m\u001b[0;34m(\u001b[0m\u001b[0mall_ga_error\u001b[0m\u001b[0;34m)\u001b[0m\u001b[0;34m\u001b[0m\u001b[0m\n",
      "\u001b[0;31mNameError\u001b[0m: name 'pickle' is not defined"
     ]
    }
   ],
   "source": [
    "all_models_error = pickle.load(open(\"stats/\" + folder + \"/all_models_error.p\", \"rb\")).items()\n",
    "\n",
    "try:\n",
    "    all_ga_error = pickle.load(open(\"stats/\" + folder + \"/ga_models_error.p\", \"rb\")).items()\n",
    "    all_models_error.extend(all_ga_error)\n",
    "except:\n",
    "    pass\n",
    "\n",
    "try:\n",
    "    all_hills_error = pickle.load(open(\"stats/\" + folder + \"/all_hills_error.p\", \"rb\")).items()\n",
    "    all_models_error.extend(all_hills_error)\n",
    "except:\n",
    "    pass\n",
    "\n",
    "# Based on: http://stackoverflow.com/a/35971096/5398272\n",
    "fig1 = plt.figure()\n",
    "ax1 = fig1.add_subplot(111)\n",
    "\n",
    "for i in range(len(all_models_error)):\n",
    "    (label, error) = all_models_error[i]\n",
    "    if len(error) > 0:\n",
    "        ax1.plot(error, label=label)\n",
    "\n",
    "colormap = plt.cm.Set2\n",
    "colors = [colormap(i) for i in np.linspace(0, 1, len(ax1.lines))]\n",
    "for i, j in enumerate(ax1.lines):\n",
    "    j.set_color(colors[i])\n",
    "ax1.legend(loc=2)\n",
    "plt.xlabel('Optimisation Epoch')\n",
    "plt.ylabel('Average Test Error')\n",
    "plt.show()"
   ]
  },
  {
   "cell_type": "code",
   "execution_count": 5,
   "metadata": {
    "scrolled": true
   },
   "outputs": [
    {
     "ename": "NameError",
     "evalue": "name 'pickle' is not defined",
     "output_type": "error",
     "traceback": [
      "\u001b[0;31m---------------------------------------------------------------------------\u001b[0m",
      "\u001b[0;31mNameError\u001b[0m                                 Traceback (most recent call last)",
      "\u001b[0;32m<ipython-input-5-47c9300996ca>\u001b[0m in \u001b[0;36m<module>\u001b[0;34m()\u001b[0m\n\u001b[1;32m      2\u001b[0m \u001b[0;32mimport\u001b[0m \u001b[0mpandas\u001b[0m \u001b[0;32mas\u001b[0m \u001b[0mpd\u001b[0m\u001b[0;34m\u001b[0m\u001b[0m\n\u001b[1;32m      3\u001b[0m \u001b[0;34m\u001b[0m\u001b[0m\n\u001b[0;32m----> 4\u001b[0;31m \u001b[0mhill\u001b[0m \u001b[0;34m=\u001b[0m \u001b[0mpickle\u001b[0m\u001b[0;34m.\u001b[0m\u001b[0mload\u001b[0m\u001b[0;34m(\u001b[0m\u001b[0mopen\u001b[0m\u001b[0;34m(\u001b[0m\u001b[0;34m\"stats/\"\u001b[0m \u001b[0;34m+\u001b[0m \u001b[0mfolder\u001b[0m \u001b[0;34m+\u001b[0m \u001b[0;34m\"/hill_climber.p\"\u001b[0m\u001b[0;34m)\u001b[0m\u001b[0;34m)\u001b[0m\u001b[0;34m\u001b[0m\u001b[0m\n\u001b[0m\u001b[1;32m      5\u001b[0m \u001b[0;31m#print hill\u001b[0m\u001b[0;34m\u001b[0m\u001b[0;34m\u001b[0m\u001b[0m\n\u001b[1;32m      6\u001b[0m \u001b[0mhill_best_pairs\u001b[0m \u001b[0;34m=\u001b[0m \u001b[0mhill\u001b[0m\u001b[0;34m[\u001b[0m\u001b[0;36m1\u001b[0m\u001b[0;34m]\u001b[0m\u001b[0;34m\u001b[0m\u001b[0m\n",
      "\u001b[0;31mNameError\u001b[0m: name 'pickle' is not defined"
     ]
    }
   ],
   "source": [
    "# stats == tuple(average_error, best_pairs, all_errors)\n",
    "import pandas as pd\n",
    "\n",
    "hill = pickle.load(open(\"stats/\" + folder + \"/hill_climber.p\"))\n",
    "#print hill\n",
    "hill_best_pairs = hill[1]\n",
    "hill_all_errors = hill[2]\n",
    "\n",
    "def mean_ieee(errors, name):\n",
    "    print name + \": \" + str(round(np.mean(errors), 1)) + \" : \" + str(round(np.mean(np.mean(sorted(errors)[0:23])), 1)) \n",
    "\n",
    "count, division1 = np.histogram(hill_all_errors)\n",
    "\n",
    "c = dict(boxes='DarkGreen', whiskers='DarkOrange', medians='DarkBlue', caps='Gray')\n",
    "\n",
    "series = pd.Series(np.array(hill_all_errors)).hist(bins=division1, color='LightGray')\n",
    "plt.title('Hill climber error distribution for test set 6')\n",
    "plt.xlabel('MFCC error')\n",
    "plt.savefig('hill.pdf')"
   ]
  },
  {
   "cell_type": "code",
   "execution_count": 6,
   "metadata": {
    "scrolled": false
   },
   "outputs": [
    {
     "ename": "NameError",
     "evalue": "name 'visualise_prediction' is not defined",
     "output_type": "error",
     "traceback": [
      "\u001b[0;31m---------------------------------------------------------------------------\u001b[0m",
      "\u001b[0;31mNameError\u001b[0m                                 Traceback (most recent call last)",
      "\u001b[0;32m<ipython-input-6-5428012f8df5>\u001b[0m in \u001b[0;36m<module>\u001b[0;34m()\u001b[0m\n\u001b[0;32m----> 1\u001b[0;31m \u001b[0mvisualise_prediction\u001b[0m\u001b[0;34m(\u001b[0m\u001b[0mhill_best_pairs\u001b[0m\u001b[0;34m[\u001b[0m\u001b[0;34m'actual_patch'\u001b[0m\u001b[0;34m]\u001b[0m\u001b[0;34m,\u001b[0m \u001b[0mhill_best_pairs\u001b[0m\u001b[0;34m[\u001b[0m\u001b[0;34m'predicted_patch'\u001b[0m\u001b[0;34m]\u001b[0m\u001b[0;34m)\u001b[0m\u001b[0;34m\u001b[0m\u001b[0m\n\u001b[0m",
      "\u001b[0;31mNameError\u001b[0m: name 'visualise_prediction' is not defined"
     ]
    }
   ],
   "source": [
    "visualise_prediction(hill_best_pairs['actual_patch'], hill_best_pairs['predicted_patch'])"
   ]
  },
  {
   "cell_type": "code",
   "execution_count": 7,
   "metadata": {},
   "outputs": [
    {
     "ename": "NameError",
     "evalue": "name 'Audio' is not defined",
     "output_type": "error",
     "traceback": [
      "\u001b[0;31m---------------------------------------------------------------------------\u001b[0m",
      "\u001b[0;31mNameError\u001b[0m                                 Traceback (most recent call last)",
      "\u001b[0;32m<ipython-input-7-428623342724>\u001b[0m in \u001b[0;36m<module>\u001b[0;34m()\u001b[0m\n\u001b[1;32m      5\u001b[0m         \u001b[0;32mreturn\u001b[0m \u001b[0mextractor\u001b[0m\u001b[0;34m.\u001b[0m\u001b[0mget_audio_frames\u001b[0m\u001b[0;34m(\u001b[0m\u001b[0;34m)\u001b[0m\u001b[0;34m\u001b[0m\u001b[0m\n\u001b[1;32m      6\u001b[0m \u001b[0;34m\u001b[0m\u001b[0m\n\u001b[0;32m----> 7\u001b[0;31m \u001b[0mAudio\u001b[0m\u001b[0;34m(\u001b[0m\u001b[0maudio\u001b[0m\u001b[0;34m(\u001b[0m\u001b[0mhill_best_pairs\u001b[0m\u001b[0;34m[\u001b[0m\u001b[0;34m'predicted_patch'\u001b[0m\u001b[0;34m]\u001b[0m\u001b[0;34m)\u001b[0m\u001b[0;34m,\u001b[0m \u001b[0mrate\u001b[0m\u001b[0;34m=\u001b[0m\u001b[0;36m44100\u001b[0m\u001b[0;34m)\u001b[0m\u001b[0;34m\u001b[0m\u001b[0m\n\u001b[0m",
      "\u001b[0;31mNameError\u001b[0m: name 'Audio' is not defined"
     ]
    }
   ],
   "source": [
    "def audio(predicted_patch):\n",
    "    predicted_full_patch = extractor.partial_patch_to_patch(predicted_patch)\n",
    "    predicted_patch_with_indices = extractor.add_patch_indices(predicted_full_patch)\n",
    "    if extractor.set_patch(predicted_patch_with_indices):\n",
    "        return extractor.get_audio_frames()\n",
    "\n",
    "Audio(audio(hill_best_pairs['predicted_patch']), rate=44100)"
   ]
  },
  {
   "cell_type": "code",
   "execution_count": 8,
   "metadata": {},
   "outputs": [
    {
     "ename": "NameError",
     "evalue": "name 'Audio' is not defined",
     "output_type": "error",
     "traceback": [
      "\u001b[0;31m---------------------------------------------------------------------------\u001b[0m",
      "\u001b[0;31mNameError\u001b[0m                                 Traceback (most recent call last)",
      "\u001b[0;32m<ipython-input-8-6a09626e4993>\u001b[0m in \u001b[0;36m<module>\u001b[0;34m()\u001b[0m\n\u001b[0;32m----> 1\u001b[0;31m \u001b[0mAudio\u001b[0m\u001b[0;34m(\u001b[0m\u001b[0maudio\u001b[0m\u001b[0;34m(\u001b[0m\u001b[0mhill_best_pairs\u001b[0m\u001b[0;34m[\u001b[0m\u001b[0;34m'actual_patch'\u001b[0m\u001b[0;34m]\u001b[0m\u001b[0;34m)\u001b[0m\u001b[0;34m,\u001b[0m \u001b[0mrate\u001b[0m\u001b[0;34m=\u001b[0m\u001b[0;36m44100\u001b[0m\u001b[0;34m)\u001b[0m\u001b[0;34m\u001b[0m\u001b[0m\n\u001b[0m",
      "\u001b[0;31mNameError\u001b[0m: name 'Audio' is not defined"
     ]
    }
   ],
   "source": [
    "Audio(audio(hill_best_pairs['actual_patch']), rate=44100)"
   ]
  },
  {
   "cell_type": "code",
   "execution_count": 9,
   "metadata": {},
   "outputs": [
    {
     "ename": "NameError",
     "evalue": "name 'pickle' is not defined",
     "output_type": "error",
     "traceback": [
      "\u001b[0;31m---------------------------------------------------------------------------\u001b[0m",
      "\u001b[0;31mNameError\u001b[0m                                 Traceback (most recent call last)",
      "\u001b[0;32m<ipython-input-9-4fbabdb87022>\u001b[0m in \u001b[0;36m<module>\u001b[0;34m()\u001b[0m\n\u001b[1;32m      2\u001b[0m \u001b[0;32mimport\u001b[0m \u001b[0mpandas\u001b[0m \u001b[0;32mas\u001b[0m \u001b[0mpd\u001b[0m\u001b[0;34m\u001b[0m\u001b[0m\n\u001b[1;32m      3\u001b[0m \u001b[0;34m\u001b[0m\u001b[0m\n\u001b[0;32m----> 4\u001b[0;31m \u001b[0mlstm\u001b[0m \u001b[0;34m=\u001b[0m \u001b[0mpickle\u001b[0m\u001b[0;34m.\u001b[0m\u001b[0mload\u001b[0m\u001b[0;34m(\u001b[0m\u001b[0mopen\u001b[0m\u001b[0;34m(\u001b[0m\u001b[0;34m\"stats/\"\u001b[0m \u001b[0;34m+\u001b[0m \u001b[0mfolder\u001b[0m \u001b[0;34m+\u001b[0m \u001b[0;34m\"/lstm.p\"\u001b[0m\u001b[0;34m)\u001b[0m\u001b[0;34m)\u001b[0m\u001b[0;34m\u001b[0m\u001b[0m\n\u001b[0m\u001b[1;32m      5\u001b[0m \u001b[0;34m\u001b[0m\u001b[0m\n\u001b[1;32m      6\u001b[0m \u001b[0mlstm_best_pairs\u001b[0m \u001b[0;34m=\u001b[0m \u001b[0mlstm\u001b[0m\u001b[0;34m[\u001b[0m\u001b[0;36m1\u001b[0m\u001b[0;34m]\u001b[0m\u001b[0;34m\u001b[0m\u001b[0m\n",
      "\u001b[0;31mNameError\u001b[0m: name 'pickle' is not defined"
     ]
    }
   ],
   "source": [
    "# stats == tuple(average_error, best_pairs, all_errors)\n",
    "import pandas as pd\n",
    "\n",
    "lstm = pickle.load(open(\"stats/\" + folder + \"/lstm.p\"))\n",
    "\n",
    "lstm_best_pairs = lstm[1]\n",
    "lstm_all_errors = lstm[2]\n",
    "\n",
    "count, division1 = np.histogram(lstm_all_errors)\n",
    "series = pd.Series(np.array(lstm_all_errors)).hist(bins=division1)\n",
    "plt.title('LSTM Histogram')"
   ]
  },
  {
   "cell_type": "code",
   "execution_count": 10,
   "metadata": {},
   "outputs": [
    {
     "ename": "NameError",
     "evalue": "name 'visualise_prediction' is not defined",
     "output_type": "error",
     "traceback": [
      "\u001b[0;31m---------------------------------------------------------------------------\u001b[0m",
      "\u001b[0;31mNameError\u001b[0m                                 Traceback (most recent call last)",
      "\u001b[0;32m<ipython-input-10-8225efe5856b>\u001b[0m in \u001b[0;36m<module>\u001b[0;34m()\u001b[0m\n\u001b[0;32m----> 1\u001b[0;31m \u001b[0mvisualise_prediction\u001b[0m\u001b[0;34m(\u001b[0m\u001b[0mlstm_best_pairs\u001b[0m\u001b[0;34m[\u001b[0m\u001b[0;34m'actual_patch'\u001b[0m\u001b[0;34m]\u001b[0m\u001b[0;34m,\u001b[0m \u001b[0mlstm_best_pairs\u001b[0m\u001b[0;34m[\u001b[0m\u001b[0;34m'predicted_patch'\u001b[0m\u001b[0;34m]\u001b[0m\u001b[0;34m)\u001b[0m\u001b[0;34m\u001b[0m\u001b[0m\n\u001b[0m",
      "\u001b[0;31mNameError\u001b[0m: name 'visualise_prediction' is not defined"
     ]
    }
   ],
   "source": [
    "visualise_prediction(lstm_best_pairs['actual_patch'], lstm_best_pairs['predicted_patch'])"
   ]
  },
  {
   "cell_type": "code",
   "execution_count": 11,
   "metadata": {},
   "outputs": [
    {
     "ename": "NameError",
     "evalue": "name 'Audio' is not defined",
     "output_type": "error",
     "traceback": [
      "\u001b[0;31m---------------------------------------------------------------------------\u001b[0m",
      "\u001b[0;31mNameError\u001b[0m                                 Traceback (most recent call last)",
      "\u001b[0;32m<ipython-input-11-a78dc6d0f39b>\u001b[0m in \u001b[0;36m<module>\u001b[0;34m()\u001b[0m\n\u001b[0;32m----> 1\u001b[0;31m \u001b[0mAudio\u001b[0m\u001b[0;34m(\u001b[0m\u001b[0maudio\u001b[0m\u001b[0;34m(\u001b[0m\u001b[0mlstm_best_pairs\u001b[0m\u001b[0;34m[\u001b[0m\u001b[0;34m'predicted_patch'\u001b[0m\u001b[0;34m]\u001b[0m\u001b[0;34m)\u001b[0m\u001b[0;34m,\u001b[0m \u001b[0mrate\u001b[0m\u001b[0;34m=\u001b[0m\u001b[0;36m44100\u001b[0m\u001b[0;34m)\u001b[0m\u001b[0;34m\u001b[0m\u001b[0m\n\u001b[0m",
      "\u001b[0;31mNameError\u001b[0m: name 'Audio' is not defined"
     ]
    }
   ],
   "source": [
    "Audio(audio(lstm_best_pairs['predicted_patch']), rate=44100)"
   ]
  },
  {
   "cell_type": "code",
   "execution_count": 12,
   "metadata": {},
   "outputs": [
    {
     "ename": "NameError",
     "evalue": "name 'Audio' is not defined",
     "output_type": "error",
     "traceback": [
      "\u001b[0;31m---------------------------------------------------------------------------\u001b[0m",
      "\u001b[0;31mNameError\u001b[0m                                 Traceback (most recent call last)",
      "\u001b[0;32m<ipython-input-12-0fbc58a2c11b>\u001b[0m in \u001b[0;36m<module>\u001b[0;34m()\u001b[0m\n\u001b[0;32m----> 1\u001b[0;31m \u001b[0mAudio\u001b[0m\u001b[0;34m(\u001b[0m\u001b[0maudio\u001b[0m\u001b[0;34m(\u001b[0m\u001b[0mlstm_best_pairs\u001b[0m\u001b[0;34m[\u001b[0m\u001b[0;34m'actual_patch'\u001b[0m\u001b[0;34m]\u001b[0m\u001b[0;34m)\u001b[0m\u001b[0;34m,\u001b[0m \u001b[0mrate\u001b[0m\u001b[0;34m=\u001b[0m\u001b[0;36m44100\u001b[0m\u001b[0;34m)\u001b[0m\u001b[0;34m\u001b[0m\u001b[0m\n\u001b[0m",
      "\u001b[0;31mNameError\u001b[0m: name 'Audio' is not defined"
     ]
    }
   ],
   "source": [
    "Audio(audio(lstm_best_pairs['actual_patch']), rate=44100)"
   ]
  },
  {
   "cell_type": "code",
   "execution_count": 13,
   "metadata": {},
   "outputs": [
    {
     "ename": "NameError",
     "evalue": "name 'pickle' is not defined",
     "output_type": "error",
     "traceback": [
      "\u001b[0;31m---------------------------------------------------------------------------\u001b[0m",
      "\u001b[0;31mNameError\u001b[0m                                 Traceback (most recent call last)",
      "\u001b[0;32m<ipython-input-13-6d93f82287c6>\u001b[0m in \u001b[0;36m<module>\u001b[0;34m()\u001b[0m\n\u001b[1;32m      2\u001b[0m \u001b[0;32mimport\u001b[0m \u001b[0mpandas\u001b[0m \u001b[0;32mas\u001b[0m \u001b[0mpd\u001b[0m\u001b[0;34m\u001b[0m\u001b[0m\n\u001b[1;32m      3\u001b[0m \u001b[0;34m\u001b[0m\u001b[0m\n\u001b[0;32m----> 4\u001b[0;31m \u001b[0mmlp\u001b[0m \u001b[0;34m=\u001b[0m \u001b[0mpickle\u001b[0m\u001b[0;34m.\u001b[0m\u001b[0mload\u001b[0m\u001b[0;34m(\u001b[0m\u001b[0mopen\u001b[0m\u001b[0;34m(\u001b[0m\u001b[0;34m\"stats/\"\u001b[0m \u001b[0;34m+\u001b[0m \u001b[0mfolder\u001b[0m \u001b[0;34m+\u001b[0m \u001b[0;34m\"/mlp.p\"\u001b[0m\u001b[0;34m)\u001b[0m\u001b[0;34m)\u001b[0m\u001b[0;34m\u001b[0m\u001b[0m\n\u001b[0m\u001b[1;32m      5\u001b[0m \u001b[0;34m\u001b[0m\u001b[0m\n\u001b[1;32m      6\u001b[0m \u001b[0mmlp_best_pairs\u001b[0m \u001b[0;34m=\u001b[0m \u001b[0mmlp\u001b[0m\u001b[0;34m[\u001b[0m\u001b[0;36m1\u001b[0m\u001b[0;34m]\u001b[0m\u001b[0;34m\u001b[0m\u001b[0m\n",
      "\u001b[0;31mNameError\u001b[0m: name 'pickle' is not defined"
     ]
    }
   ],
   "source": [
    "# stats == tuple(average_error, best_pairs, all_errors)\n",
    "import pandas as pd\n",
    "\n",
    "mlp = pickle.load(open(\"stats/\" + folder + \"/mlp.p\"))\n",
    "\n",
    "mlp_best_pairs = mlp[1]\n",
    "mlp_all_errors = mlp[2]\n",
    "\n",
    "count, division1 = np.histogram(mlp_all_errors)\n",
    "series = pd.Series(np.array(mlp_all_errors)).hist(bins=division1)\n",
    "plt.title('MLP Histogram')"
   ]
  },
  {
   "cell_type": "code",
   "execution_count": 14,
   "metadata": {},
   "outputs": [
    {
     "ename": "NameError",
     "evalue": "name 'visualise_prediction' is not defined",
     "output_type": "error",
     "traceback": [
      "\u001b[0;31m---------------------------------------------------------------------------\u001b[0m",
      "\u001b[0;31mNameError\u001b[0m                                 Traceback (most recent call last)",
      "\u001b[0;32m<ipython-input-14-4845815e79a6>\u001b[0m in \u001b[0;36m<module>\u001b[0;34m()\u001b[0m\n\u001b[0;32m----> 1\u001b[0;31m \u001b[0mvisualise_prediction\u001b[0m\u001b[0;34m(\u001b[0m\u001b[0mmlp_best_pairs\u001b[0m\u001b[0;34m[\u001b[0m\u001b[0;34m'actual_patch'\u001b[0m\u001b[0;34m]\u001b[0m\u001b[0;34m,\u001b[0m \u001b[0mmlp_best_pairs\u001b[0m\u001b[0;34m[\u001b[0m\u001b[0;34m'predicted_patch'\u001b[0m\u001b[0;34m]\u001b[0m\u001b[0;34m)\u001b[0m\u001b[0;34m\u001b[0m\u001b[0m\n\u001b[0m",
      "\u001b[0;31mNameError\u001b[0m: name 'visualise_prediction' is not defined"
     ]
    }
   ],
   "source": [
    "visualise_prediction(mlp_best_pairs['actual_patch'], mlp_best_pairs['predicted_patch'])"
   ]
  },
  {
   "cell_type": "code",
   "execution_count": 15,
   "metadata": {},
   "outputs": [
    {
     "ename": "NameError",
     "evalue": "name 'Audio' is not defined",
     "output_type": "error",
     "traceback": [
      "\u001b[0;31m---------------------------------------------------------------------------\u001b[0m",
      "\u001b[0;31mNameError\u001b[0m                                 Traceback (most recent call last)",
      "\u001b[0;32m<ipython-input-15-c12bb9879e68>\u001b[0m in \u001b[0;36m<module>\u001b[0;34m()\u001b[0m\n\u001b[0;32m----> 1\u001b[0;31m \u001b[0mAudio\u001b[0m\u001b[0;34m(\u001b[0m\u001b[0maudio\u001b[0m\u001b[0;34m(\u001b[0m\u001b[0mmlp_best_pairs\u001b[0m\u001b[0;34m[\u001b[0m\u001b[0;34m'predicted_patch'\u001b[0m\u001b[0;34m]\u001b[0m\u001b[0;34m)\u001b[0m\u001b[0;34m,\u001b[0m \u001b[0mrate\u001b[0m\u001b[0;34m=\u001b[0m\u001b[0;36m44100\u001b[0m\u001b[0;34m)\u001b[0m\u001b[0;34m\u001b[0m\u001b[0m\n\u001b[0m",
      "\u001b[0;31mNameError\u001b[0m: name 'Audio' is not defined"
     ]
    }
   ],
   "source": [
    "Audio(audio(mlp_best_pairs['predicted_patch']), rate=44100)"
   ]
  },
  {
   "cell_type": "code",
   "execution_count": 16,
   "metadata": {},
   "outputs": [
    {
     "ename": "NameError",
     "evalue": "name 'Audio' is not defined",
     "output_type": "error",
     "traceback": [
      "\u001b[0;31m---------------------------------------------------------------------------\u001b[0m",
      "\u001b[0;31mNameError\u001b[0m                                 Traceback (most recent call last)",
      "\u001b[0;32m<ipython-input-16-bd968682adab>\u001b[0m in \u001b[0;36m<module>\u001b[0;34m()\u001b[0m\n\u001b[0;32m----> 1\u001b[0;31m \u001b[0mAudio\u001b[0m\u001b[0;34m(\u001b[0m\u001b[0maudio\u001b[0m\u001b[0;34m(\u001b[0m\u001b[0mmlp_best_pairs\u001b[0m\u001b[0;34m[\u001b[0m\u001b[0;34m'actual_patch'\u001b[0m\u001b[0;34m]\u001b[0m\u001b[0;34m)\u001b[0m\u001b[0;34m,\u001b[0m \u001b[0mrate\u001b[0m\u001b[0;34m=\u001b[0m\u001b[0;36m44100\u001b[0m\u001b[0;34m)\u001b[0m\u001b[0;34m\u001b[0m\u001b[0m\n\u001b[0m",
      "\u001b[0;31mNameError\u001b[0m: name 'Audio' is not defined"
     ]
    }
   ],
   "source": [
    "Audio(audio(mlp_best_pairs['actual_patch']), rate=44100)"
   ]
  },
  {
   "cell_type": "code",
   "execution_count": 17,
   "metadata": {},
   "outputs": [
    {
     "ename": "NameError",
     "evalue": "name 'pickle' is not defined",
     "output_type": "error",
     "traceback": [
      "\u001b[0;31m---------------------------------------------------------------------------\u001b[0m",
      "\u001b[0;31mNameError\u001b[0m                                 Traceback (most recent call last)",
      "\u001b[0;32m<ipython-input-17-e94de1131a79>\u001b[0m in \u001b[0;36m<module>\u001b[0;34m()\u001b[0m\n\u001b[1;32m      2\u001b[0m \u001b[0;32mimport\u001b[0m \u001b[0mpandas\u001b[0m \u001b[0;32mas\u001b[0m \u001b[0mpd\u001b[0m\u001b[0;34m\u001b[0m\u001b[0m\n\u001b[1;32m      3\u001b[0m \u001b[0;34m\u001b[0m\u001b[0m\n\u001b[0;32m----> 4\u001b[0;31m \u001b[0mga\u001b[0m \u001b[0;34m=\u001b[0m \u001b[0mpickle\u001b[0m\u001b[0;34m.\u001b[0m\u001b[0mload\u001b[0m\u001b[0;34m(\u001b[0m\u001b[0mopen\u001b[0m\u001b[0;34m(\u001b[0m\u001b[0;34m\"stats/\"\u001b[0m \u001b[0;34m+\u001b[0m \u001b[0mfolder\u001b[0m \u001b[0;34m+\u001b[0m \u001b[0;34m\"/ga.p\"\u001b[0m\u001b[0;34m)\u001b[0m\u001b[0;34m)\u001b[0m\u001b[0;34m\u001b[0m\u001b[0m\n\u001b[0m\u001b[1;32m      5\u001b[0m \u001b[0;34m\u001b[0m\u001b[0m\n\u001b[1;32m      6\u001b[0m \u001b[0mga_best_pairs\u001b[0m \u001b[0;34m=\u001b[0m \u001b[0mga\u001b[0m\u001b[0;34m[\u001b[0m\u001b[0;36m1\u001b[0m\u001b[0;34m]\u001b[0m\u001b[0;34m\u001b[0m\u001b[0m\n",
      "\u001b[0;31mNameError\u001b[0m: name 'pickle' is not defined"
     ]
    }
   ],
   "source": [
    "# stats == tuple(average_error, best_pairs, all_errors)\n",
    "import pandas as pd\n",
    "\n",
    "ga = pickle.load(open(\"stats/\" + folder + \"/ga.p\"))\n",
    "\n",
    "ga_best_pairs = ga[1]\n",
    "ga_all_errors = ga[2]\n",
    "\n",
    "count, division1 = np.histogram(ga_all_errors)\n",
    "series = pd.Series(np.array(ga_all_errors)).hist(bins=division1)\n",
    "plt.title('Genetic Algorithm Histogram')"
   ]
  },
  {
   "cell_type": "code",
   "execution_count": 18,
   "metadata": {},
   "outputs": [
    {
     "ename": "NameError",
     "evalue": "name 'visualise_prediction' is not defined",
     "output_type": "error",
     "traceback": [
      "\u001b[0;31m---------------------------------------------------------------------------\u001b[0m",
      "\u001b[0;31mNameError\u001b[0m                                 Traceback (most recent call last)",
      "\u001b[0;32m<ipython-input-18-7995c1308ac7>\u001b[0m in \u001b[0;36m<module>\u001b[0;34m()\u001b[0m\n\u001b[0;32m----> 1\u001b[0;31m \u001b[0mvisualise_prediction\u001b[0m\u001b[0;34m(\u001b[0m\u001b[0mga_best_pairs\u001b[0m\u001b[0;34m[\u001b[0m\u001b[0;34m'actual_patch'\u001b[0m\u001b[0;34m]\u001b[0m\u001b[0;34m,\u001b[0m \u001b[0mga_best_pairs\u001b[0m\u001b[0;34m[\u001b[0m\u001b[0;34m'predicted_patch'\u001b[0m\u001b[0;34m]\u001b[0m\u001b[0;34m)\u001b[0m\u001b[0;34m\u001b[0m\u001b[0m\n\u001b[0m",
      "\u001b[0;31mNameError\u001b[0m: name 'visualise_prediction' is not defined"
     ]
    }
   ],
   "source": [
    "visualise_prediction(ga_best_pairs['actual_patch'], ga_best_pairs['predicted_patch'])"
   ]
  },
  {
   "cell_type": "code",
   "execution_count": 19,
   "metadata": {},
   "outputs": [
    {
     "ename": "NameError",
     "evalue": "name 'Audio' is not defined",
     "output_type": "error",
     "traceback": [
      "\u001b[0;31m---------------------------------------------------------------------------\u001b[0m",
      "\u001b[0;31mNameError\u001b[0m                                 Traceback (most recent call last)",
      "\u001b[0;32m<ipython-input-19-4bfb42a754c3>\u001b[0m in \u001b[0;36m<module>\u001b[0;34m()\u001b[0m\n\u001b[0;32m----> 1\u001b[0;31m \u001b[0mAudio\u001b[0m\u001b[0;34m(\u001b[0m\u001b[0maudio\u001b[0m\u001b[0;34m(\u001b[0m\u001b[0mga_best_pairs\u001b[0m\u001b[0;34m[\u001b[0m\u001b[0;34m'predicted_patch'\u001b[0m\u001b[0;34m]\u001b[0m\u001b[0;34m)\u001b[0m\u001b[0;34m,\u001b[0m \u001b[0mrate\u001b[0m\u001b[0;34m=\u001b[0m\u001b[0;36m44100\u001b[0m\u001b[0;34m)\u001b[0m\u001b[0;34m\u001b[0m\u001b[0m\n\u001b[0m",
      "\u001b[0;31mNameError\u001b[0m: name 'Audio' is not defined"
     ]
    }
   ],
   "source": [
    "Audio(audio(ga_best_pairs['predicted_patch']), rate=44100)"
   ]
  },
  {
   "cell_type": "code",
   "execution_count": 20,
   "metadata": {},
   "outputs": [
    {
     "ename": "NameError",
     "evalue": "name 'Audio' is not defined",
     "output_type": "error",
     "traceback": [
      "\u001b[0;31m---------------------------------------------------------------------------\u001b[0m",
      "\u001b[0;31mNameError\u001b[0m                                 Traceback (most recent call last)",
      "\u001b[0;32m<ipython-input-20-3c090104fb01>\u001b[0m in \u001b[0;36m<module>\u001b[0;34m()\u001b[0m\n\u001b[0;32m----> 1\u001b[0;31m \u001b[0mAudio\u001b[0m\u001b[0;34m(\u001b[0m\u001b[0maudio\u001b[0m\u001b[0;34m(\u001b[0m\u001b[0mga_best_pairs\u001b[0m\u001b[0;34m[\u001b[0m\u001b[0;34m'actual_patch'\u001b[0m\u001b[0;34m]\u001b[0m\u001b[0;34m)\u001b[0m\u001b[0;34m,\u001b[0m \u001b[0mrate\u001b[0m\u001b[0;34m=\u001b[0m\u001b[0;36m44100\u001b[0m\u001b[0;34m)\u001b[0m\u001b[0;34m\u001b[0m\u001b[0m\n\u001b[0m",
      "\u001b[0;31mNameError\u001b[0m: name 'Audio' is not defined"
     ]
    }
   ],
   "source": [
    "Audio(audio(ga_best_pairs['actual_patch']), rate=44100)"
   ]
  },
  {
   "cell_type": "code",
   "execution_count": null,
   "metadata": {},
   "outputs": [],
   "source": []
  },
  {
   "cell_type": "code",
   "execution_count": 21,
   "metadata": {},
   "outputs": [
    {
     "ename": "NameError",
     "evalue": "name 'mean_ieee' is not defined",
     "output_type": "error",
     "traceback": [
      "\u001b[0;31m---------------------------------------------------------------------------\u001b[0m",
      "\u001b[0;31mNameError\u001b[0m                                 Traceback (most recent call last)",
      "\u001b[0;32m<ipython-input-21-b22aef5a9a09>\u001b[0m in \u001b[0;36m<module>\u001b[0;34m()\u001b[0m\n\u001b[0;32m----> 1\u001b[0;31m \u001b[0mmean_ieee\u001b[0m\u001b[0;34m(\u001b[0m\u001b[0mhill_all_errors\u001b[0m\u001b[0;34m,\u001b[0m \u001b[0;34m\"Hill\"\u001b[0m\u001b[0;34m)\u001b[0m\u001b[0;34m\u001b[0m\u001b[0m\n\u001b[0m\u001b[1;32m      2\u001b[0m \u001b[0mmean_ieee\u001b[0m\u001b[0;34m(\u001b[0m\u001b[0mga_all_errors\u001b[0m\u001b[0;34m,\u001b[0m \u001b[0;34m\"  Ga\"\u001b[0m\u001b[0;34m)\u001b[0m\u001b[0;34m\u001b[0m\u001b[0m\n\u001b[1;32m      3\u001b[0m \u001b[0mmean_ieee\u001b[0m\u001b[0;34m(\u001b[0m\u001b[0mmlp_all_errors\u001b[0m\u001b[0;34m,\u001b[0m \u001b[0;34m\" MLP\"\u001b[0m\u001b[0;34m)\u001b[0m\u001b[0;34m\u001b[0m\u001b[0m\n\u001b[1;32m      4\u001b[0m \u001b[0mmean_ieee\u001b[0m\u001b[0;34m(\u001b[0m\u001b[0mlstm_all_errors\u001b[0m\u001b[0;34m,\u001b[0m \u001b[0;34m\"LSTM\"\u001b[0m\u001b[0;34m)\u001b[0m\u001b[0;34m\u001b[0m\u001b[0m\n\u001b[1;32m      5\u001b[0m \u001b[0;34m\u001b[0m\u001b[0m\n",
      "\u001b[0;31mNameError\u001b[0m: name 'mean_ieee' is not defined"
     ]
    }
   ],
   "source": [
    "mean_ieee(hill_all_errors, \"Hill\")\n",
    "mean_ieee(ga_all_errors, \"  Ga\")\n",
    "mean_ieee(mlp_all_errors, \" MLP\")\n",
    "mean_ieee(lstm_all_errors, \"LSTM\")\n",
    "\n",
    "def rounded_list(errors):\n",
    "    print [round(e, 3) for e in errors]\n",
    "\n",
    "print \"\"\n",
    "print number + \":\"\n",
    "print \"\"\n",
    "print \"HC:\"\n",
    "rounded_list(hill_all_errors)\n",
    "print \"GA:\"\n",
    "rounded_list(ga_all_errors)\n",
    "print \"MLP:\"\n",
    "rounded_list(mlp_all_errors)\n",
    "print \"LSTM:\"\n",
    "rounded_list(lstm_all_errors)"
   ]
  },
  {
   "cell_type": "code",
   "execution_count": 22,
   "metadata": {},
   "outputs": [
    {
     "ename": "NameError",
     "evalue": "name 'np' is not defined",
     "output_type": "error",
     "traceback": [
      "\u001b[0;31m---------------------------------------------------------------------------\u001b[0m",
      "\u001b[0;31mNameError\u001b[0m                                 Traceback (most recent call last)",
      "\u001b[0;32m<ipython-input-22-1ed48303223f>\u001b[0m in \u001b[0;36m<module>\u001b[0;34m()\u001b[0m\n\u001b[1;32m      1\u001b[0m \u001b[0mlstm_plus\u001b[0m \u001b[0;34m=\u001b[0m \u001b[0;34m[\u001b[0m\u001b[0;36m73.14\u001b[0m\u001b[0;34m,\u001b[0m \u001b[0;36m26.02\u001b[0m\u001b[0;34m,\u001b[0m \u001b[0;36m41.71\u001b[0m\u001b[0;34m,\u001b[0m \u001b[0;36m0.641\u001b[0m\u001b[0;34m,\u001b[0m \u001b[0;36m24.475\u001b[0m\u001b[0;34m,\u001b[0m \u001b[0;36m22.228\u001b[0m\u001b[0;34m,\u001b[0m \u001b[0;36m21.605\u001b[0m\u001b[0;34m,\u001b[0m \u001b[0;36m27.217\u001b[0m\u001b[0;34m,\u001b[0m \u001b[0;36m27.289\u001b[0m\u001b[0;34m,\u001b[0m \u001b[0;36m22.332\u001b[0m\u001b[0;34m,\u001b[0m \u001b[0;36m26.05\u001b[0m\u001b[0;34m,\u001b[0m \u001b[0;36m22.734\u001b[0m\u001b[0;34m,\u001b[0m \u001b[0;36m26.983\u001b[0m\u001b[0;34m,\u001b[0m \u001b[0;36m19.795\u001b[0m\u001b[0;34m,\u001b[0m \u001b[0;36m29.839\u001b[0m\u001b[0;34m,\u001b[0m \u001b[0;36m20.378\u001b[0m\u001b[0;34m,\u001b[0m \u001b[0;36m2.767\u001b[0m\u001b[0;34m,\u001b[0m \u001b[0;36m17.046\u001b[0m\u001b[0;34m,\u001b[0m \u001b[0;36m0.939\u001b[0m\u001b[0;34m,\u001b[0m \u001b[0;36m31.623\u001b[0m\u001b[0;34m,\u001b[0m \u001b[0;36m26.413\u001b[0m\u001b[0;34m,\u001b[0m \u001b[0;36m22.316\u001b[0m\u001b[0;34m,\u001b[0m \u001b[0;36m24.291\u001b[0m\u001b[0;34m,\u001b[0m \u001b[0;36m2.494\u001b[0m\u001b[0;34m,\u001b[0m \u001b[0;36m25.083\u001b[0m\u001b[0;34m,\u001b[0m \u001b[0;36m0.902\u001b[0m\u001b[0;34m,\u001b[0m \u001b[0;36m22.312\u001b[0m\u001b[0;34m,\u001b[0m \u001b[0;36m20.42\u001b[0m\u001b[0;34m,\u001b[0m \u001b[0;36m16.12\u001b[0m\u001b[0;34m,\u001b[0m \u001b[0;36m32.655\u001b[0m\u001b[0;34m]\u001b[0m\u001b[0;34m\u001b[0m\u001b[0m\n\u001b[0;32m----> 2\u001b[0;31m \u001b[0mnp\u001b[0m\u001b[0;34m.\u001b[0m\u001b[0mmean\u001b[0m\u001b[0;34m(\u001b[0m\u001b[0mlstm_plus\u001b[0m\u001b[0;34m)\u001b[0m\u001b[0;34m\u001b[0m\u001b[0m\n\u001b[0m",
      "\u001b[0;31mNameError\u001b[0m: name 'np' is not defined"
     ]
    }
   ],
   "source": [
    "lstm_plus = [73.14, 26.02, 41.71, 0.641, 24.475, 22.228, 21.605, 27.217, 27.289, 22.332, 26.05, 22.734, 26.983, 19.795, 29.839, 20.378, 2.767, 17.046, 0.939, 31.623, 26.413, 22.316, 24.291, 2.494, 25.083, 0.902, 22.312, 20.42, 16.12, 32.655]\n",
    "np.mean(lstm_plus)"
   ]
  },
  {
   "cell_type": "code",
   "execution_count": 23,
   "metadata": {},
   "outputs": [],
   "source": [
    "lstm_plus = [17.139,14.849,26.61,20.289,24.321,4.932,30.675,18.889,19.084,18.372,16.175,22.125,18.056,19.243,22.394,9.122,8.81,19.764,11.986,24.413,28.162,6.368,12.563,24.183,19.432,18.071,15.973,16.788,11.203,64.108,104.93,25.086,24.999,15.547,24.045,2.981,49.546,30.255,32.407,15.485,19.843,28.984,23.484,21.826,3.409,32.462,15.188,25.303,31.712,29.275,0.619,20.496,25.121,2.923,12.03,3.172,16.945,27.803,0.495,28.247,60.522,29.302,23.319,51.751,30.352,27.431,20.791,21.583,18.813,17.304,0.356,18.436,21.163,0.229,25.071,12.721,0.384,25.076,22.249,14.525,2.764,28.765,28.381,0.762,37.184,22.337,23.121,26.547,13.647,19.559,33.768,0.441,18.238,22.344,14.538,15.315,22.829,26.831,20.696,3.12,16.244,19.843,29.162,21.581,13.904,24.363,22.005,21.755,21.806,17.851,25.241,30.39,21.993,20.073,20.716,23.46,20.469,21.725,22.418,26.634,23.163,2.54,19.723,2.554,30.541,21.977,18.743,9.393,27.014,31.355,14.539,14.789,22.247,17.095,26.065,17.242,25.152,29.193,21.179,14.134,3.298,25.303,0.395,12.165,22.288,17.622,13.989,24.419,14.281,21.811,73.14,26.02,41.71,0.641,24.475,22.228,21.605,27.217,27.289,22.332,26.05,22.734,26.983,19.795,29.839,20.378,2.767,17.046,0.939,31.623,26.413,22.316,24.291,2.494,25.083,0.902,22.312,20.42,16.12,32.655]"
   ]
  },
  {
   "cell_type": "code",
   "execution_count": 24,
   "metadata": {},
   "outputs": [
    {
     "ename": "NameError",
     "evalue": "name 'plt' is not defined",
     "output_type": "error",
     "traceback": [
      "\u001b[0;31m---------------------------------------------------------------------------\u001b[0m",
      "\u001b[0;31mNameError\u001b[0m                                 Traceback (most recent call last)",
      "\u001b[0;32m<ipython-input-24-052d86aa9543>\u001b[0m in \u001b[0;36m<module>\u001b[0;34m()\u001b[0m\n\u001b[1;32m      3\u001b[0m         \u001b[0;34m'weight'\u001b[0m \u001b[0;34m:\u001b[0m \u001b[0;34m'bold'\u001b[0m\u001b[0;34m,\u001b[0m\u001b[0;34m\u001b[0m\u001b[0m\n\u001b[1;32m      4\u001b[0m         'size'   : 22}\n\u001b[0;32m----> 5\u001b[0;31m \u001b[0mplt\u001b[0m\u001b[0;34m.\u001b[0m\u001b[0mrcParams\u001b[0m\u001b[0;34m.\u001b[0m\u001b[0mupdate\u001b[0m\u001b[0;34m(\u001b[0m\u001b[0;34m{\u001b[0m\u001b[0;34m'font.size'\u001b[0m\u001b[0;34m:\u001b[0m \u001b[0;36m16\u001b[0m\u001b[0;34m}\u001b[0m\u001b[0;34m)\u001b[0m\u001b[0;34m\u001b[0m\u001b[0m\n\u001b[0m\u001b[1;32m      6\u001b[0m \u001b[0mplt\u001b[0m\u001b[0;34m.\u001b[0m\u001b[0mhist\u001b[0m\u001b[0;34m(\u001b[0m\u001b[0mlstm_plus\u001b[0m\u001b[0;34m,\u001b[0m \u001b[0mcolor\u001b[0m\u001b[0;34m=\u001b[0m\u001b[0;34m'LightGray'\u001b[0m\u001b[0;34m,\u001b[0m \u001b[0mrange\u001b[0m\u001b[0;34m=\u001b[0m\u001b[0;34m(\u001b[0m\u001b[0;36m0\u001b[0m\u001b[0;34m,\u001b[0m \u001b[0;36m80\u001b[0m\u001b[0;34m)\u001b[0m\u001b[0;34m)\u001b[0m\u001b[0;34m\u001b[0m\u001b[0m\n\u001b[1;32m      7\u001b[0m \u001b[0;34m\u001b[0m\u001b[0m\n",
      "\u001b[0;31mNameError\u001b[0m: name 'plt' is not defined"
     ]
    }
   ],
   "source": [
    "#series = pd.Series(np.array(lstm_plus)).hist(bins=division1, color='LightGray')\n",
    "font = {'family' : 'normal',\n",
    "        'weight' : 'bold',\n",
    "        'size'   : 22}\n",
    "plt.rcParams.update({'font.size': 16})\n",
    "plt.hist(lstm_plus, color='LightGray', range=(0, 80))\n",
    "\n",
    "plt.title('LSTM++ error distribution for all test sets')\n",
    "plt.xlabel('MFCC error')\n",
    "plt.savefig('lstm_plus.pdf')"
   ]
  },
  {
   "cell_type": "code",
   "execution_count": 25,
   "metadata": {},
   "outputs": [
    {
     "ename": "NameError",
     "evalue": "name 'plt' is not defined",
     "output_type": "error",
     "traceback": [
      "\u001b[0;31m---------------------------------------------------------------------------\u001b[0m",
      "\u001b[0;31mNameError\u001b[0m                                 Traceback (most recent call last)",
      "\u001b[0;32m<ipython-input-25-32089b60d88d>\u001b[0m in \u001b[0;36m<module>\u001b[0;34m()\u001b[0m\n\u001b[1;32m      1\u001b[0m \u001b[0;31m#series = pd.Series(np.array(hill_all_errors)).hist(bins=division1, color='LightGray')\u001b[0m\u001b[0;34m\u001b[0m\u001b[0;34m\u001b[0m\u001b[0m\n\u001b[1;32m      2\u001b[0m \u001b[0mhill_all_errors\u001b[0m \u001b[0;34m=\u001b[0m \u001b[0;34m[\u001b[0m\u001b[0;36m7.203\u001b[0m\u001b[0;34m,\u001b[0m\u001b[0;36m8.431\u001b[0m\u001b[0;34m,\u001b[0m\u001b[0;36m31.264\u001b[0m\u001b[0;34m,\u001b[0m\u001b[0;36m20.289\u001b[0m\u001b[0;34m,\u001b[0m\u001b[0;36m17.47\u001b[0m\u001b[0;34m,\u001b[0m\u001b[0;36m3.196\u001b[0m\u001b[0;34m,\u001b[0m\u001b[0;36m27.687\u001b[0m\u001b[0;34m,\u001b[0m\u001b[0;36m22.793\u001b[0m\u001b[0;34m,\u001b[0m\u001b[0;36m18.816\u001b[0m\u001b[0;34m,\u001b[0m\u001b[0;36m23.761\u001b[0m\u001b[0;34m,\u001b[0m\u001b[0;36m24.243\u001b[0m\u001b[0;34m,\u001b[0m\u001b[0;36m17.874\u001b[0m\u001b[0;34m,\u001b[0m\u001b[0;36m15.843\u001b[0m\u001b[0;34m,\u001b[0m\u001b[0;36m14.231\u001b[0m\u001b[0;34m,\u001b[0m\u001b[0;36m22.226\u001b[0m\u001b[0;34m,\u001b[0m\u001b[0;36m5.898\u001b[0m\u001b[0;34m,\u001b[0m\u001b[0;36m6.152\u001b[0m\u001b[0;34m,\u001b[0m\u001b[0;36m23.674\u001b[0m\u001b[0;34m,\u001b[0m\u001b[0;36m6.106\u001b[0m\u001b[0;34m,\u001b[0m\u001b[0;36m22.727\u001b[0m\u001b[0;34m,\u001b[0m\u001b[0;36m12.267\u001b[0m\u001b[0;34m,\u001b[0m\u001b[0;36m10.65\u001b[0m\u001b[0;34m,\u001b[0m\u001b[0;36m6.69\u001b[0m\u001b[0;34m,\u001b[0m\u001b[0;36m21.209\u001b[0m\u001b[0;34m,\u001b[0m\u001b[0;36m19.464\u001b[0m\u001b[0;34m,\u001b[0m\u001b[0;36m29.318\u001b[0m\u001b[0;34m,\u001b[0m\u001b[0;36m17.195\u001b[0m\u001b[0;34m,\u001b[0m\u001b[0;36m21.776\u001b[0m\u001b[0;34m,\u001b[0m\u001b[0;36m11.245\u001b[0m\u001b[0;34m,\u001b[0m\u001b[0;36m29.105\u001b[0m\u001b[0;34m,\u001b[0m\u001b[0;36m15.48\u001b[0m\u001b[0;34m,\u001b[0m\u001b[0;36m21.221\u001b[0m\u001b[0;34m,\u001b[0m\u001b[0;36m18.831\u001b[0m\u001b[0;34m,\u001b[0m\u001b[0;36m15.46\u001b[0m\u001b[0;34m,\u001b[0m\u001b[0;36m30.48\u001b[0m\u001b[0;34m,\u001b[0m\u001b[0;36m58.841\u001b[0m\u001b[0;34m,\u001b[0m\u001b[0;36m13.716\u001b[0m\u001b[0;34m,\u001b[0m\u001b[0;36m23.183\u001b[0m\u001b[0;34m,\u001b[0m\u001b[0;36m17.939\u001b[0m\u001b[0;34m,\u001b[0m\u001b[0;36m16.289\u001b[0m\u001b[0;34m,\u001b[0m\u001b[0;36m13.627\u001b[0m\u001b[0;34m,\u001b[0m\u001b[0;36m16.186\u001b[0m\u001b[0;34m,\u001b[0m\u001b[0;36m11.391\u001b[0m\u001b[0;34m,\u001b[0m\u001b[0;36m12.18\u001b[0m\u001b[0;34m,\u001b[0m\u001b[0;36m24.525\u001b[0m\u001b[0;34m,\u001b[0m\u001b[0;36m17.447\u001b[0m\u001b[0;34m,\u001b[0m\u001b[0;36m16.713\u001b[0m\u001b[0;34m,\u001b[0m\u001b[0;36m17.784\u001b[0m\u001b[0;34m,\u001b[0m\u001b[0;36m15.808\u001b[0m\u001b[0;34m,\u001b[0m\u001b[0;36m8.853\u001b[0m\u001b[0;34m,\u001b[0m\u001b[0;36m31.408\u001b[0m\u001b[0;34m,\u001b[0m\u001b[0;36m15.326\u001b[0m\u001b[0;34m,\u001b[0m\u001b[0;36m19.278\u001b[0m\u001b[0;34m,\u001b[0m\u001b[0;36m26.845\u001b[0m\u001b[0;34m,\u001b[0m\u001b[0;36m15.927\u001b[0m\u001b[0;34m,\u001b[0m\u001b[0;36m47.747\u001b[0m\u001b[0;34m,\u001b[0m\u001b[0;36m8.715\u001b[0m\u001b[0;34m,\u001b[0m\u001b[0;36m27.903\u001b[0m\u001b[0;34m,\u001b[0m\u001b[0;36m26.047\u001b[0m\u001b[0;34m,\u001b[0m\u001b[0;36m23.27\u001b[0m\u001b[0;34m,\u001b[0m\u001b[0;36m6.521\u001b[0m\u001b[0;34m,\u001b[0m\u001b[0;36m17.133\u001b[0m\u001b[0;34m,\u001b[0m\u001b[0;36m12.074\u001b[0m\u001b[0;34m,\u001b[0m\u001b[0;36m12.233\u001b[0m\u001b[0;34m,\u001b[0m\u001b[0;36m25.07\u001b[0m\u001b[0;34m,\u001b[0m\u001b[0;36m10.383\u001b[0m\u001b[0;34m,\u001b[0m\u001b[0;36m17.123\u001b[0m\u001b[0;34m,\u001b[0m\u001b[0;36m29.766\u001b[0m\u001b[0;34m,\u001b[0m\u001b[0;36m9.839\u001b[0m\u001b[0;34m,\u001b[0m\u001b[0;36m13.161\u001b[0m\u001b[0;34m,\u001b[0m\u001b[0;36m49.956\u001b[0m\u001b[0;34m,\u001b[0m\u001b[0;36m7.713\u001b[0m\u001b[0;34m,\u001b[0m\u001b[0;36m13.386\u001b[0m\u001b[0;34m,\u001b[0m\u001b[0;36m69.657\u001b[0m\u001b[0;34m,\u001b[0m\u001b[0;36m11.157\u001b[0m\u001b[0;34m,\u001b[0m\u001b[0;36m12.625\u001b[0m\u001b[0;34m,\u001b[0m\u001b[0;36m56.229\u001b[0m\u001b[0;34m,\u001b[0m\u001b[0;36m24.347\u001b[0m\u001b[0;34m,\u001b[0m\u001b[0;36m32.245\u001b[0m\u001b[0;34m,\u001b[0m\u001b[0;36m12.05\u001b[0m\u001b[0;34m,\u001b[0m\u001b[0;36m51.473\u001b[0m\u001b[0;34m,\u001b[0m\u001b[0;36m23.231\u001b[0m\u001b[0;34m,\u001b[0m\u001b[0;36m25.446\u001b[0m\u001b[0;34m,\u001b[0m\u001b[0;36m24.799\u001b[0m\u001b[0;34m,\u001b[0m\u001b[0;36m12.403\u001b[0m\u001b[0;34m,\u001b[0m\u001b[0;36m24.809\u001b[0m\u001b[0;34m,\u001b[0m\u001b[0;36m14.249\u001b[0m\u001b[0;34m,\u001b[0m\u001b[0;36m30.84\u001b[0m\u001b[0;34m,\u001b[0m\u001b[0;36m18.836\u001b[0m\u001b[0;34m,\u001b[0m\u001b[0;36m26.65\u001b[0m\u001b[0;34m,\u001b[0m\u001b[0;36m17.614\u001b[0m\u001b[0;34m,\u001b[0m\u001b[0;36m19.912\u001b[0m\u001b[0;34m,\u001b[0m\u001b[0;36m15.246\u001b[0m\u001b[0;34m,\u001b[0m\u001b[0;36m14.528\u001b[0m\u001b[0;34m,\u001b[0m\u001b[0;36m14.687\u001b[0m\u001b[0;34m,\u001b[0m\u001b[0;36m23.516\u001b[0m\u001b[0;34m,\u001b[0m\u001b[0;36m19.446\u001b[0m\u001b[0;34m,\u001b[0m\u001b[0;36m16.483\u001b[0m\u001b[0;34m,\u001b[0m\u001b[0;36m17.259\u001b[0m\u001b[0;34m,\u001b[0m\u001b[0;36m36.957\u001b[0m\u001b[0;34m,\u001b[0m\u001b[0;36m20.684\u001b[0m\u001b[0;34m,\u001b[0m\u001b[0;36m23.97\u001b[0m\u001b[0;34m,\u001b[0m\u001b[0;36m19.753\u001b[0m\u001b[0;34m,\u001b[0m\u001b[0;36m18.422\u001b[0m\u001b[0;34m,\u001b[0m\u001b[0;36m8.074\u001b[0m\u001b[0;34m,\u001b[0m\u001b[0;36m26.845\u001b[0m\u001b[0;34m,\u001b[0m\u001b[0;36m24.06\u001b[0m\u001b[0;34m,\u001b[0m\u001b[0;36m22.435\u001b[0m\u001b[0;34m,\u001b[0m\u001b[0;36m19.529\u001b[0m\u001b[0;34m,\u001b[0m\u001b[0;36m13.366\u001b[0m\u001b[0;34m,\u001b[0m\u001b[0;36m29.441\u001b[0m\u001b[0;34m,\u001b[0m\u001b[0;36m17.665\u001b[0m\u001b[0;34m,\u001b[0m\u001b[0;36m15.173\u001b[0m\u001b[0;34m,\u001b[0m\u001b[0;36m28.412\u001b[0m\u001b[0;34m,\u001b[0m\u001b[0;36m20.738\u001b[0m\u001b[0;34m,\u001b[0m\u001b[0;36m18.337\u001b[0m\u001b[0;34m,\u001b[0m\u001b[0;36m18.333\u001b[0m\u001b[0;34m,\u001b[0m\u001b[0;36m18.716\u001b[0m\u001b[0;34m,\u001b[0m\u001b[0;36m17.692\u001b[0m\u001b[0;34m,\u001b[0m\u001b[0;36m19.708\u001b[0m\u001b[0;34m,\u001b[0m\u001b[0;36m66.959\u001b[0m\u001b[0;34m,\u001b[0m\u001b[0;36m14.197\u001b[0m\u001b[0;34m,\u001b[0m\u001b[0;36m23.372\u001b[0m\u001b[0;34m,\u001b[0m\u001b[0;36m38.279\u001b[0m\u001b[0;34m,\u001b[0m\u001b[0;36m28.548\u001b[0m\u001b[0;34m,\u001b[0m\u001b[0;36m13.802\u001b[0m\u001b[0;34m,\u001b[0m\u001b[0;36m19.117\u001b[0m\u001b[0;34m,\u001b[0m\u001b[0;36m20.845\u001b[0m\u001b[0;34m,\u001b[0m\u001b[0;36m20.826\u001b[0m\u001b[0;34m,\u001b[0m\u001b[0;36m22.336\u001b[0m\u001b[0;34m,\u001b[0m\u001b[0;36m7.906\u001b[0m\u001b[0;34m,\u001b[0m\u001b[0;36m20.119\u001b[0m\u001b[0;34m,\u001b[0m\u001b[0;36m26.018\u001b[0m\u001b[0;34m,\u001b[0m\u001b[0;36m15.717\u001b[0m\u001b[0;34m,\u001b[0m\u001b[0;36m22.475\u001b[0m\u001b[0;34m,\u001b[0m\u001b[0;36m18.757\u001b[0m\u001b[0;34m,\u001b[0m\u001b[0;36m25.396\u001b[0m\u001b[0;34m,\u001b[0m\u001b[0;36m15.436\u001b[0m\u001b[0;34m,\u001b[0m\u001b[0;36m20.871\u001b[0m\u001b[0;34m,\u001b[0m\u001b[0;36m6.818\u001b[0m\u001b[0;34m,\u001b[0m\u001b[0;36m49.347\u001b[0m\u001b[0;34m,\u001b[0m\u001b[0;36m18.76\u001b[0m\u001b[0;34m,\u001b[0m\u001b[0;36m30.994\u001b[0m\u001b[0;34m,\u001b[0m\u001b[0;36m9.429\u001b[0m\u001b[0;34m,\u001b[0m\u001b[0;36m15.289\u001b[0m\u001b[0;34m,\u001b[0m\u001b[0;36m16.573\u001b[0m\u001b[0;34m,\u001b[0m\u001b[0;36m9.157\u001b[0m\u001b[0;34m,\u001b[0m\u001b[0;36m18.127\u001b[0m\u001b[0;34m,\u001b[0m\u001b[0;36m29.324\u001b[0m\u001b[0;34m,\u001b[0m\u001b[0;36m25.723\u001b[0m\u001b[0;34m,\u001b[0m\u001b[0;36m15.026\u001b[0m\u001b[0;34m,\u001b[0m\u001b[0;36m13.322\u001b[0m\u001b[0;34m,\u001b[0m\u001b[0;36m16.055\u001b[0m\u001b[0;34m,\u001b[0m\u001b[0;36m36.944\u001b[0m\u001b[0;34m,\u001b[0m\u001b[0;36m23.912\u001b[0m\u001b[0;34m,\u001b[0m\u001b[0;36m16.526\u001b[0m\u001b[0;34m,\u001b[0m\u001b[0;36m23.112\u001b[0m\u001b[0;34m,\u001b[0m\u001b[0;36m22.882\u001b[0m\u001b[0;34m,\u001b[0m\u001b[0;36m18.472\u001b[0m\u001b[0;34m,\u001b[0m\u001b[0;36m28.782\u001b[0m\u001b[0;34m,\u001b[0m\u001b[0;36m31.385\u001b[0m\u001b[0;34m,\u001b[0m\u001b[0;36m16.518\u001b[0m\u001b[0;34m,\u001b[0m\u001b[0;36m9.354\u001b[0m\u001b[0;34m,\u001b[0m\u001b[0;36m16.233\u001b[0m\u001b[0;34m,\u001b[0m\u001b[0;36m10.718\u001b[0m\u001b[0;34m,\u001b[0m\u001b[0;36m18.11\u001b[0m\u001b[0;34m,\u001b[0m\u001b[0;36m34.937\u001b[0m\u001b[0;34m,\u001b[0m\u001b[0;36m26.726\u001b[0m\u001b[0;34m,\u001b[0m\u001b[0;36m69.101\u001b[0m\u001b[0;34m,\u001b[0m\u001b[0;36m20.964\u001b[0m\u001b[0;34m,\u001b[0m\u001b[0;36m25.451\u001b[0m\u001b[0;34m,\u001b[0m\u001b[0;36m18.018\u001b[0m\u001b[0;34m,\u001b[0m\u001b[0;36m21.317\u001b[0m\u001b[0;34m,\u001b[0m\u001b[0;36m18.729\u001b[0m\u001b[0;34m,\u001b[0m\u001b[0;36m13.707\u001b[0m\u001b[0;34m,\u001b[0m\u001b[0;36m27.663\u001b[0m\u001b[0;34m,\u001b[0m\u001b[0;36m13.352\u001b[0m\u001b[0;34m,\u001b[0m\u001b[0;36m24.922\u001b[0m\u001b[0;34m,\u001b[0m\u001b[0;36m15.496\u001b[0m\u001b[0;34m,\u001b[0m\u001b[0;36m11.069\u001b[0m\u001b[0;34m]\u001b[0m\u001b[0;34m\u001b[0m\u001b[0m\n\u001b[0;32m----> 3\u001b[0;31m \u001b[0mplt\u001b[0m\u001b[0;34m.\u001b[0m\u001b[0mhist\u001b[0m\u001b[0;34m(\u001b[0m\u001b[0mhill_all_errors\u001b[0m\u001b[0;34m,\u001b[0m \u001b[0mcolor\u001b[0m\u001b[0;34m=\u001b[0m\u001b[0;34m'LightGray'\u001b[0m\u001b[0;34m,\u001b[0m \u001b[0mrange\u001b[0m\u001b[0;34m=\u001b[0m\u001b[0;34m[\u001b[0m\u001b[0;36m0\u001b[0m\u001b[0;34m,\u001b[0m \u001b[0;36m80\u001b[0m\u001b[0;34m]\u001b[0m\u001b[0;34m)\u001b[0m\u001b[0;34m\u001b[0m\u001b[0m\n\u001b[0m\u001b[1;32m      4\u001b[0m \u001b[0mplt\u001b[0m\u001b[0;34m.\u001b[0m\u001b[0mtitle\u001b[0m\u001b[0;34m(\u001b[0m\u001b[0;34m'Hill climber error distribution for test set 6'\u001b[0m\u001b[0;34m)\u001b[0m\u001b[0;34m\u001b[0m\u001b[0m\n\u001b[1;32m      5\u001b[0m \u001b[0mplt\u001b[0m\u001b[0;34m.\u001b[0m\u001b[0mxlabel\u001b[0m\u001b[0;34m(\u001b[0m\u001b[0;34m'MFCC error'\u001b[0m\u001b[0;34m)\u001b[0m\u001b[0;34m\u001b[0m\u001b[0m\n",
      "\u001b[0;31mNameError\u001b[0m: name 'plt' is not defined"
     ]
    }
   ],
   "source": [
    "#series = pd.Series(np.array(hill_all_errors)).hist(bins=division1, color='LightGray')\n",
    "hill_all_errors = [7.203,8.431,31.264,20.289,17.47,3.196,27.687,22.793,18.816,23.761,24.243,17.874,15.843,14.231,22.226,5.898,6.152,23.674,6.106,22.727,12.267,10.65,6.69,21.209,19.464,29.318,17.195,21.776,11.245,29.105,15.48,21.221,18.831,15.46,30.48,58.841,13.716,23.183,17.939,16.289,13.627,16.186,11.391,12.18,24.525,17.447,16.713,17.784,15.808,8.853,31.408,15.326,19.278,26.845,15.927,47.747,8.715,27.903,26.047,23.27,6.521,17.133,12.074,12.233,25.07,10.383,17.123,29.766,9.839,13.161,49.956,7.713,13.386,69.657,11.157,12.625,56.229,24.347,32.245,12.05,51.473,23.231,25.446,24.799,12.403,24.809,14.249,30.84,18.836,26.65,17.614,19.912,15.246,14.528,14.687,23.516,19.446,16.483,17.259,36.957,20.684,23.97,19.753,18.422,8.074,26.845,24.06,22.435,19.529,13.366,29.441,17.665,15.173,28.412,20.738,18.337,18.333,18.716,17.692,19.708,66.959,14.197,23.372,38.279,28.548,13.802,19.117,20.845,20.826,22.336,7.906,20.119,26.018,15.717,22.475,18.757,25.396,15.436,20.871,6.818,49.347,18.76,30.994,9.429,15.289,16.573,9.157,18.127,29.324,25.723,15.026,13.322,16.055,36.944,23.912,16.526,23.112,22.882,18.472,28.782,31.385,16.518,9.354,16.233,10.718,18.11,34.937,26.726,69.101,20.964,25.451,18.018,21.317,18.729,13.707,27.663,13.352,24.922,15.496,11.069]\n",
    "plt.hist(hill_all_errors, color='LightGray', range=[0, 80])\n",
    "plt.title('Hill climber error distribution for test set 6')\n",
    "plt.xlabel('MFCC error')\n",
    "plt.savefig('hill.pdf')"
   ]
  },
  {
   "cell_type": "code",
   "execution_count": 26,
   "metadata": {},
   "outputs": [
    {
     "ename": "NameError",
     "evalue": "name 'plt' is not defined",
     "output_type": "error",
     "traceback": [
      "\u001b[0;31m---------------------------------------------------------------------------\u001b[0m",
      "\u001b[0;31mNameError\u001b[0m                                 Traceback (most recent call last)",
      "\u001b[0;32m<ipython-input-26-23339c5b28a5>\u001b[0m in \u001b[0;36m<module>\u001b[0;34m()\u001b[0m\n\u001b[0;32m----> 1\u001b[0;31m \u001b[0mplt\u001b[0m\u001b[0;34m.\u001b[0m\u001b[0mshow\u001b[0m\u001b[0;34m(\u001b[0m\u001b[0;34m)\u001b[0m\u001b[0;34m\u001b[0m\u001b[0m\n\u001b[0m\u001b[1;32m      2\u001b[0m \u001b[0mplt\u001b[0m\u001b[0;34m.\u001b[0m\u001b[0mrcParams\u001b[0m\u001b[0;34m.\u001b[0m\u001b[0mupdate\u001b[0m\u001b[0;34m(\u001b[0m\u001b[0;34m{\u001b[0m\u001b[0;34m'font.size'\u001b[0m\u001b[0;34m:\u001b[0m \u001b[0;36m11\u001b[0m\u001b[0;34m}\u001b[0m\u001b[0;34m)\u001b[0m\u001b[0;34m\u001b[0m\u001b[0m\n\u001b[1;32m      3\u001b[0m \u001b[0mplt\u001b[0m\u001b[0;34m.\u001b[0m\u001b[0mfigure\u001b[0m\u001b[0;34m(\u001b[0m\u001b[0mfigsize\u001b[0m\u001b[0;34m=\u001b[0m\u001b[0;34m(\u001b[0m\u001b[0;36m6\u001b[0m\u001b[0;34m,\u001b[0m\u001b[0;36m2.5\u001b[0m\u001b[0;34m)\u001b[0m\u001b[0;34m)\u001b[0m\u001b[0;34m\u001b[0m\u001b[0m\n\u001b[1;32m      4\u001b[0m \u001b[0max1\u001b[0m \u001b[0;34m=\u001b[0m \u001b[0mplt\u001b[0m\u001b[0;34m.\u001b[0m\u001b[0msubplot\u001b[0m\u001b[0;34m(\u001b[0m\u001b[0;36m121\u001b[0m\u001b[0;34m)\u001b[0m\u001b[0;34m\u001b[0m\u001b[0m\n\u001b[1;32m      5\u001b[0m \u001b[0mhill_all_errors\u001b[0m \u001b[0;34m=\u001b[0m \u001b[0;34m[\u001b[0m\u001b[0;36m7.203\u001b[0m\u001b[0;34m,\u001b[0m\u001b[0;36m8.431\u001b[0m\u001b[0;34m,\u001b[0m\u001b[0;36m31.264\u001b[0m\u001b[0;34m,\u001b[0m\u001b[0;36m20.289\u001b[0m\u001b[0;34m,\u001b[0m\u001b[0;36m17.47\u001b[0m\u001b[0;34m,\u001b[0m\u001b[0;36m3.196\u001b[0m\u001b[0;34m,\u001b[0m\u001b[0;36m27.687\u001b[0m\u001b[0;34m,\u001b[0m\u001b[0;36m22.793\u001b[0m\u001b[0;34m,\u001b[0m\u001b[0;36m18.816\u001b[0m\u001b[0;34m,\u001b[0m\u001b[0;36m23.761\u001b[0m\u001b[0;34m,\u001b[0m\u001b[0;36m24.243\u001b[0m\u001b[0;34m,\u001b[0m\u001b[0;36m17.874\u001b[0m\u001b[0;34m,\u001b[0m\u001b[0;36m15.843\u001b[0m\u001b[0;34m,\u001b[0m\u001b[0;36m14.231\u001b[0m\u001b[0;34m,\u001b[0m\u001b[0;36m22.226\u001b[0m\u001b[0;34m,\u001b[0m\u001b[0;36m5.898\u001b[0m\u001b[0;34m,\u001b[0m\u001b[0;36m6.152\u001b[0m\u001b[0;34m,\u001b[0m\u001b[0;36m23.674\u001b[0m\u001b[0;34m,\u001b[0m\u001b[0;36m6.106\u001b[0m\u001b[0;34m,\u001b[0m\u001b[0;36m22.727\u001b[0m\u001b[0;34m,\u001b[0m\u001b[0;36m12.267\u001b[0m\u001b[0;34m,\u001b[0m\u001b[0;36m10.65\u001b[0m\u001b[0;34m,\u001b[0m\u001b[0;36m6.69\u001b[0m\u001b[0;34m,\u001b[0m\u001b[0;36m21.209\u001b[0m\u001b[0;34m,\u001b[0m\u001b[0;36m19.464\u001b[0m\u001b[0;34m,\u001b[0m\u001b[0;36m29.318\u001b[0m\u001b[0;34m,\u001b[0m\u001b[0;36m17.195\u001b[0m\u001b[0;34m,\u001b[0m\u001b[0;36m21.776\u001b[0m\u001b[0;34m,\u001b[0m\u001b[0;36m11.245\u001b[0m\u001b[0;34m,\u001b[0m\u001b[0;36m29.105\u001b[0m\u001b[0;34m,\u001b[0m\u001b[0;36m15.48\u001b[0m\u001b[0;34m,\u001b[0m\u001b[0;36m21.221\u001b[0m\u001b[0;34m,\u001b[0m\u001b[0;36m18.831\u001b[0m\u001b[0;34m,\u001b[0m\u001b[0;36m15.46\u001b[0m\u001b[0;34m,\u001b[0m\u001b[0;36m30.48\u001b[0m\u001b[0;34m,\u001b[0m\u001b[0;36m58.841\u001b[0m\u001b[0;34m,\u001b[0m\u001b[0;36m13.716\u001b[0m\u001b[0;34m,\u001b[0m\u001b[0;36m23.183\u001b[0m\u001b[0;34m,\u001b[0m\u001b[0;36m17.939\u001b[0m\u001b[0;34m,\u001b[0m\u001b[0;36m16.289\u001b[0m\u001b[0;34m,\u001b[0m\u001b[0;36m13.627\u001b[0m\u001b[0;34m,\u001b[0m\u001b[0;36m16.186\u001b[0m\u001b[0;34m,\u001b[0m\u001b[0;36m11.391\u001b[0m\u001b[0;34m,\u001b[0m\u001b[0;36m12.18\u001b[0m\u001b[0;34m,\u001b[0m\u001b[0;36m24.525\u001b[0m\u001b[0;34m,\u001b[0m\u001b[0;36m17.447\u001b[0m\u001b[0;34m,\u001b[0m\u001b[0;36m16.713\u001b[0m\u001b[0;34m,\u001b[0m\u001b[0;36m17.784\u001b[0m\u001b[0;34m,\u001b[0m\u001b[0;36m15.808\u001b[0m\u001b[0;34m,\u001b[0m\u001b[0;36m8.853\u001b[0m\u001b[0;34m,\u001b[0m\u001b[0;36m31.408\u001b[0m\u001b[0;34m,\u001b[0m\u001b[0;36m15.326\u001b[0m\u001b[0;34m,\u001b[0m\u001b[0;36m19.278\u001b[0m\u001b[0;34m,\u001b[0m\u001b[0;36m26.845\u001b[0m\u001b[0;34m,\u001b[0m\u001b[0;36m15.927\u001b[0m\u001b[0;34m,\u001b[0m\u001b[0;36m47.747\u001b[0m\u001b[0;34m,\u001b[0m\u001b[0;36m8.715\u001b[0m\u001b[0;34m,\u001b[0m\u001b[0;36m27.903\u001b[0m\u001b[0;34m,\u001b[0m\u001b[0;36m26.047\u001b[0m\u001b[0;34m,\u001b[0m\u001b[0;36m23.27\u001b[0m\u001b[0;34m,\u001b[0m\u001b[0;36m6.521\u001b[0m\u001b[0;34m,\u001b[0m\u001b[0;36m17.133\u001b[0m\u001b[0;34m,\u001b[0m\u001b[0;36m12.074\u001b[0m\u001b[0;34m,\u001b[0m\u001b[0;36m12.233\u001b[0m\u001b[0;34m,\u001b[0m\u001b[0;36m25.07\u001b[0m\u001b[0;34m,\u001b[0m\u001b[0;36m10.383\u001b[0m\u001b[0;34m,\u001b[0m\u001b[0;36m17.123\u001b[0m\u001b[0;34m,\u001b[0m\u001b[0;36m29.766\u001b[0m\u001b[0;34m,\u001b[0m\u001b[0;36m9.839\u001b[0m\u001b[0;34m,\u001b[0m\u001b[0;36m13.161\u001b[0m\u001b[0;34m,\u001b[0m\u001b[0;36m49.956\u001b[0m\u001b[0;34m,\u001b[0m\u001b[0;36m7.713\u001b[0m\u001b[0;34m,\u001b[0m\u001b[0;36m13.386\u001b[0m\u001b[0;34m,\u001b[0m\u001b[0;36m69.657\u001b[0m\u001b[0;34m,\u001b[0m\u001b[0;36m11.157\u001b[0m\u001b[0;34m,\u001b[0m\u001b[0;36m12.625\u001b[0m\u001b[0;34m,\u001b[0m\u001b[0;36m56.229\u001b[0m\u001b[0;34m,\u001b[0m\u001b[0;36m24.347\u001b[0m\u001b[0;34m,\u001b[0m\u001b[0;36m32.245\u001b[0m\u001b[0;34m,\u001b[0m\u001b[0;36m12.05\u001b[0m\u001b[0;34m,\u001b[0m\u001b[0;36m51.473\u001b[0m\u001b[0;34m,\u001b[0m\u001b[0;36m23.231\u001b[0m\u001b[0;34m,\u001b[0m\u001b[0;36m25.446\u001b[0m\u001b[0;34m,\u001b[0m\u001b[0;36m24.799\u001b[0m\u001b[0;34m,\u001b[0m\u001b[0;36m12.403\u001b[0m\u001b[0;34m,\u001b[0m\u001b[0;36m24.809\u001b[0m\u001b[0;34m,\u001b[0m\u001b[0;36m14.249\u001b[0m\u001b[0;34m,\u001b[0m\u001b[0;36m30.84\u001b[0m\u001b[0;34m,\u001b[0m\u001b[0;36m18.836\u001b[0m\u001b[0;34m,\u001b[0m\u001b[0;36m26.65\u001b[0m\u001b[0;34m,\u001b[0m\u001b[0;36m17.614\u001b[0m\u001b[0;34m,\u001b[0m\u001b[0;36m19.912\u001b[0m\u001b[0;34m,\u001b[0m\u001b[0;36m15.246\u001b[0m\u001b[0;34m,\u001b[0m\u001b[0;36m14.528\u001b[0m\u001b[0;34m,\u001b[0m\u001b[0;36m14.687\u001b[0m\u001b[0;34m,\u001b[0m\u001b[0;36m23.516\u001b[0m\u001b[0;34m,\u001b[0m\u001b[0;36m19.446\u001b[0m\u001b[0;34m,\u001b[0m\u001b[0;36m16.483\u001b[0m\u001b[0;34m,\u001b[0m\u001b[0;36m17.259\u001b[0m\u001b[0;34m,\u001b[0m\u001b[0;36m36.957\u001b[0m\u001b[0;34m,\u001b[0m\u001b[0;36m20.684\u001b[0m\u001b[0;34m,\u001b[0m\u001b[0;36m23.97\u001b[0m\u001b[0;34m,\u001b[0m\u001b[0;36m19.753\u001b[0m\u001b[0;34m,\u001b[0m\u001b[0;36m18.422\u001b[0m\u001b[0;34m,\u001b[0m\u001b[0;36m8.074\u001b[0m\u001b[0;34m,\u001b[0m\u001b[0;36m26.845\u001b[0m\u001b[0;34m,\u001b[0m\u001b[0;36m24.06\u001b[0m\u001b[0;34m,\u001b[0m\u001b[0;36m22.435\u001b[0m\u001b[0;34m,\u001b[0m\u001b[0;36m19.529\u001b[0m\u001b[0;34m,\u001b[0m\u001b[0;36m13.366\u001b[0m\u001b[0;34m,\u001b[0m\u001b[0;36m29.441\u001b[0m\u001b[0;34m,\u001b[0m\u001b[0;36m17.665\u001b[0m\u001b[0;34m,\u001b[0m\u001b[0;36m15.173\u001b[0m\u001b[0;34m,\u001b[0m\u001b[0;36m28.412\u001b[0m\u001b[0;34m,\u001b[0m\u001b[0;36m20.738\u001b[0m\u001b[0;34m,\u001b[0m\u001b[0;36m18.337\u001b[0m\u001b[0;34m,\u001b[0m\u001b[0;36m18.333\u001b[0m\u001b[0;34m,\u001b[0m\u001b[0;36m18.716\u001b[0m\u001b[0;34m,\u001b[0m\u001b[0;36m17.692\u001b[0m\u001b[0;34m,\u001b[0m\u001b[0;36m19.708\u001b[0m\u001b[0;34m,\u001b[0m\u001b[0;36m66.959\u001b[0m\u001b[0;34m,\u001b[0m\u001b[0;36m14.197\u001b[0m\u001b[0;34m,\u001b[0m\u001b[0;36m23.372\u001b[0m\u001b[0;34m,\u001b[0m\u001b[0;36m38.279\u001b[0m\u001b[0;34m,\u001b[0m\u001b[0;36m28.548\u001b[0m\u001b[0;34m,\u001b[0m\u001b[0;36m13.802\u001b[0m\u001b[0;34m,\u001b[0m\u001b[0;36m19.117\u001b[0m\u001b[0;34m,\u001b[0m\u001b[0;36m20.845\u001b[0m\u001b[0;34m,\u001b[0m\u001b[0;36m20.826\u001b[0m\u001b[0;34m,\u001b[0m\u001b[0;36m22.336\u001b[0m\u001b[0;34m,\u001b[0m\u001b[0;36m7.906\u001b[0m\u001b[0;34m,\u001b[0m\u001b[0;36m20.119\u001b[0m\u001b[0;34m,\u001b[0m\u001b[0;36m26.018\u001b[0m\u001b[0;34m,\u001b[0m\u001b[0;36m15.717\u001b[0m\u001b[0;34m,\u001b[0m\u001b[0;36m22.475\u001b[0m\u001b[0;34m,\u001b[0m\u001b[0;36m18.757\u001b[0m\u001b[0;34m,\u001b[0m\u001b[0;36m25.396\u001b[0m\u001b[0;34m,\u001b[0m\u001b[0;36m15.436\u001b[0m\u001b[0;34m,\u001b[0m\u001b[0;36m20.871\u001b[0m\u001b[0;34m,\u001b[0m\u001b[0;36m6.818\u001b[0m\u001b[0;34m,\u001b[0m\u001b[0;36m49.347\u001b[0m\u001b[0;34m,\u001b[0m\u001b[0;36m18.76\u001b[0m\u001b[0;34m,\u001b[0m\u001b[0;36m30.994\u001b[0m\u001b[0;34m,\u001b[0m\u001b[0;36m9.429\u001b[0m\u001b[0;34m,\u001b[0m\u001b[0;36m15.289\u001b[0m\u001b[0;34m,\u001b[0m\u001b[0;36m16.573\u001b[0m\u001b[0;34m,\u001b[0m\u001b[0;36m9.157\u001b[0m\u001b[0;34m,\u001b[0m\u001b[0;36m18.127\u001b[0m\u001b[0;34m,\u001b[0m\u001b[0;36m29.324\u001b[0m\u001b[0;34m,\u001b[0m\u001b[0;36m25.723\u001b[0m\u001b[0;34m,\u001b[0m\u001b[0;36m15.026\u001b[0m\u001b[0;34m,\u001b[0m\u001b[0;36m13.322\u001b[0m\u001b[0;34m,\u001b[0m\u001b[0;36m16.055\u001b[0m\u001b[0;34m,\u001b[0m\u001b[0;36m36.944\u001b[0m\u001b[0;34m,\u001b[0m\u001b[0;36m23.912\u001b[0m\u001b[0;34m,\u001b[0m\u001b[0;36m16.526\u001b[0m\u001b[0;34m,\u001b[0m\u001b[0;36m23.112\u001b[0m\u001b[0;34m,\u001b[0m\u001b[0;36m22.882\u001b[0m\u001b[0;34m,\u001b[0m\u001b[0;36m18.472\u001b[0m\u001b[0;34m,\u001b[0m\u001b[0;36m28.782\u001b[0m\u001b[0;34m,\u001b[0m\u001b[0;36m31.385\u001b[0m\u001b[0;34m,\u001b[0m\u001b[0;36m16.518\u001b[0m\u001b[0;34m,\u001b[0m\u001b[0;36m9.354\u001b[0m\u001b[0;34m,\u001b[0m\u001b[0;36m16.233\u001b[0m\u001b[0;34m,\u001b[0m\u001b[0;36m10.718\u001b[0m\u001b[0;34m,\u001b[0m\u001b[0;36m18.11\u001b[0m\u001b[0;34m,\u001b[0m\u001b[0;36m34.937\u001b[0m\u001b[0;34m,\u001b[0m\u001b[0;36m26.726\u001b[0m\u001b[0;34m,\u001b[0m\u001b[0;36m69.101\u001b[0m\u001b[0;34m,\u001b[0m\u001b[0;36m20.964\u001b[0m\u001b[0;34m,\u001b[0m\u001b[0;36m25.451\u001b[0m\u001b[0;34m,\u001b[0m\u001b[0;36m18.018\u001b[0m\u001b[0;34m,\u001b[0m\u001b[0;36m21.317\u001b[0m\u001b[0;34m,\u001b[0m\u001b[0;36m18.729\u001b[0m\u001b[0;34m,\u001b[0m\u001b[0;36m13.707\u001b[0m\u001b[0;34m,\u001b[0m\u001b[0;36m27.663\u001b[0m\u001b[0;34m,\u001b[0m\u001b[0;36m13.352\u001b[0m\u001b[0;34m,\u001b[0m\u001b[0;36m24.922\u001b[0m\u001b[0;34m,\u001b[0m\u001b[0;36m15.496\u001b[0m\u001b[0;34m,\u001b[0m\u001b[0;36m11.069\u001b[0m\u001b[0;34m]\u001b[0m\u001b[0;34m\u001b[0m\u001b[0m\n",
      "\u001b[0;31mNameError\u001b[0m: name 'plt' is not defined"
     ]
    }
   ],
   "source": [
    "plt.show()\n",
    "plt.rcParams.update({'font.size': 11})\n",
    "plt.figure(figsize=(6,2.5))\n",
    "ax1 = plt.subplot(121)\n",
    "hill_all_errors = [7.203,8.431,31.264,20.289,17.47,3.196,27.687,22.793,18.816,23.761,24.243,17.874,15.843,14.231,22.226,5.898,6.152,23.674,6.106,22.727,12.267,10.65,6.69,21.209,19.464,29.318,17.195,21.776,11.245,29.105,15.48,21.221,18.831,15.46,30.48,58.841,13.716,23.183,17.939,16.289,13.627,16.186,11.391,12.18,24.525,17.447,16.713,17.784,15.808,8.853,31.408,15.326,19.278,26.845,15.927,47.747,8.715,27.903,26.047,23.27,6.521,17.133,12.074,12.233,25.07,10.383,17.123,29.766,9.839,13.161,49.956,7.713,13.386,69.657,11.157,12.625,56.229,24.347,32.245,12.05,51.473,23.231,25.446,24.799,12.403,24.809,14.249,30.84,18.836,26.65,17.614,19.912,15.246,14.528,14.687,23.516,19.446,16.483,17.259,36.957,20.684,23.97,19.753,18.422,8.074,26.845,24.06,22.435,19.529,13.366,29.441,17.665,15.173,28.412,20.738,18.337,18.333,18.716,17.692,19.708,66.959,14.197,23.372,38.279,28.548,13.802,19.117,20.845,20.826,22.336,7.906,20.119,26.018,15.717,22.475,18.757,25.396,15.436,20.871,6.818,49.347,18.76,30.994,9.429,15.289,16.573,9.157,18.127,29.324,25.723,15.026,13.322,16.055,36.944,23.912,16.526,23.112,22.882,18.472,28.782,31.385,16.518,9.354,16.233,10.718,18.11,34.937,26.726,69.101,20.964,25.451,18.018,21.317,18.729,13.707,27.663,13.352,24.922,15.496,11.069]\n",
    "plt.hist(hill_all_errors, color='LightGray', range=[0, 80])\n",
    "plt.title('HC')\n",
    "ax1.set_xlabel('MFCC error')\n",
    "\n",
    "#plt.title('Hill climber error distribution for test set 6')\n",
    "#plt.savefig('hill.pdf')\n",
    "ax2 = plt.subplot(122)\n",
    "ax2.set_ylim((0, 80))\n",
    "ax2.set_xlabel('MFCC error')\n",
    "\n",
    "plt.hist(lstm_plus, color='LightGray', range=(0, 80))\n",
    "\n",
    "\n",
    "plt.title('LSTM++')\n",
    "\n",
    "#plt.suptitle(\"Distributions of MFCC errors over all test sets\", fontsize=14, y=1.02)\n",
    "plt.gcf().subplots_adjust(bottom=0.18)\n",
    "plt.savefig('botherrors.pdf')"
   ]
  },
  {
   "cell_type": "code",
   "execution_count": null,
   "metadata": {},
   "outputs": [],
   "source": []
  },
  {
   "cell_type": "code",
   "execution_count": 27,
   "metadata": {},
   "outputs": [
    {
     "ename": "NameError",
     "evalue": "name 'plt' is not defined",
     "output_type": "error",
     "traceback": [
      "\u001b[0;31m---------------------------------------------------------------------------\u001b[0m",
      "\u001b[0;31mNameError\u001b[0m                                 Traceback (most recent call last)",
      "\u001b[0;32m<ipython-input-27-06fb9d988118>\u001b[0m in \u001b[0;36m<module>\u001b[0;34m()\u001b[0m\n\u001b[0;32m----> 1\u001b[0;31m \u001b[0mplt\u001b[0m\u001b[0;34m.\u001b[0m\u001b[0mshow\u001b[0m\u001b[0;34m(\u001b[0m\u001b[0;34m)\u001b[0m\u001b[0;34m\u001b[0m\u001b[0m\n\u001b[0m\u001b[1;32m      2\u001b[0m \u001b[0mplt\u001b[0m\u001b[0;34m.\u001b[0m\u001b[0mrcParams\u001b[0m\u001b[0;34m.\u001b[0m\u001b[0mupdate\u001b[0m\u001b[0;34m(\u001b[0m\u001b[0;34m{\u001b[0m\u001b[0;34m'font.size'\u001b[0m\u001b[0;34m:\u001b[0m \u001b[0;36m11\u001b[0m\u001b[0;34m}\u001b[0m\u001b[0;34m)\u001b[0m\u001b[0;34m\u001b[0m\u001b[0m\n\u001b[1;32m      3\u001b[0m \u001b[0mplt\u001b[0m\u001b[0;34m.\u001b[0m\u001b[0mfigure\u001b[0m\u001b[0;34m(\u001b[0m\u001b[0mfigsize\u001b[0m\u001b[0;34m=\u001b[0m\u001b[0;34m(\u001b[0m\u001b[0;36m10\u001b[0m\u001b[0;34m,\u001b[0m \u001b[0;36m10\u001b[0m\u001b[0;34m)\u001b[0m\u001b[0;34m)\u001b[0m\u001b[0;34m\u001b[0m\u001b[0m\n\u001b[1;32m      4\u001b[0m \u001b[0max1\u001b[0m \u001b[0;34m=\u001b[0m \u001b[0mplt\u001b[0m\u001b[0;34m.\u001b[0m\u001b[0msubplot\u001b[0m\u001b[0;34m(\u001b[0m\u001b[0;36m321\u001b[0m\u001b[0;34m)\u001b[0m\u001b[0;34m\u001b[0m\u001b[0m\n\u001b[1;32m      5\u001b[0m \u001b[0mhill_all_errors\u001b[0m \u001b[0;34m=\u001b[0m \u001b[0;34m[\u001b[0m\u001b[0;36m7.203\u001b[0m\u001b[0;34m,\u001b[0m\u001b[0;36m8.431\u001b[0m\u001b[0;34m,\u001b[0m\u001b[0;36m31.264\u001b[0m\u001b[0;34m,\u001b[0m\u001b[0;36m20.289\u001b[0m\u001b[0;34m,\u001b[0m\u001b[0;36m17.47\u001b[0m\u001b[0;34m,\u001b[0m\u001b[0;36m3.196\u001b[0m\u001b[0;34m,\u001b[0m\u001b[0;36m27.687\u001b[0m\u001b[0;34m,\u001b[0m\u001b[0;36m22.793\u001b[0m\u001b[0;34m,\u001b[0m\u001b[0;36m18.816\u001b[0m\u001b[0;34m,\u001b[0m\u001b[0;36m23.761\u001b[0m\u001b[0;34m,\u001b[0m\u001b[0;36m24.243\u001b[0m\u001b[0;34m,\u001b[0m\u001b[0;36m17.874\u001b[0m\u001b[0;34m,\u001b[0m\u001b[0;36m15.843\u001b[0m\u001b[0;34m,\u001b[0m\u001b[0;36m14.231\u001b[0m\u001b[0;34m,\u001b[0m\u001b[0;36m22.226\u001b[0m\u001b[0;34m,\u001b[0m\u001b[0;36m5.898\u001b[0m\u001b[0;34m,\u001b[0m\u001b[0;36m6.152\u001b[0m\u001b[0;34m,\u001b[0m\u001b[0;36m23.674\u001b[0m\u001b[0;34m,\u001b[0m\u001b[0;36m6.106\u001b[0m\u001b[0;34m,\u001b[0m\u001b[0;36m22.727\u001b[0m\u001b[0;34m,\u001b[0m\u001b[0;36m12.267\u001b[0m\u001b[0;34m,\u001b[0m\u001b[0;36m10.65\u001b[0m\u001b[0;34m,\u001b[0m\u001b[0;36m6.69\u001b[0m\u001b[0;34m,\u001b[0m\u001b[0;36m21.209\u001b[0m\u001b[0;34m,\u001b[0m\u001b[0;36m19.464\u001b[0m\u001b[0;34m,\u001b[0m\u001b[0;36m29.318\u001b[0m\u001b[0;34m,\u001b[0m\u001b[0;36m17.195\u001b[0m\u001b[0;34m,\u001b[0m\u001b[0;36m21.776\u001b[0m\u001b[0;34m,\u001b[0m\u001b[0;36m11.245\u001b[0m\u001b[0;34m,\u001b[0m\u001b[0;36m29.105\u001b[0m\u001b[0;34m,\u001b[0m\u001b[0;36m15.48\u001b[0m\u001b[0;34m,\u001b[0m\u001b[0;36m21.221\u001b[0m\u001b[0;34m,\u001b[0m\u001b[0;36m18.831\u001b[0m\u001b[0;34m,\u001b[0m\u001b[0;36m15.46\u001b[0m\u001b[0;34m,\u001b[0m\u001b[0;36m30.48\u001b[0m\u001b[0;34m,\u001b[0m\u001b[0;36m58.841\u001b[0m\u001b[0;34m,\u001b[0m\u001b[0;36m13.716\u001b[0m\u001b[0;34m,\u001b[0m\u001b[0;36m23.183\u001b[0m\u001b[0;34m,\u001b[0m\u001b[0;36m17.939\u001b[0m\u001b[0;34m,\u001b[0m\u001b[0;36m16.289\u001b[0m\u001b[0;34m,\u001b[0m\u001b[0;36m13.627\u001b[0m\u001b[0;34m,\u001b[0m\u001b[0;36m16.186\u001b[0m\u001b[0;34m,\u001b[0m\u001b[0;36m11.391\u001b[0m\u001b[0;34m,\u001b[0m\u001b[0;36m12.18\u001b[0m\u001b[0;34m,\u001b[0m\u001b[0;36m24.525\u001b[0m\u001b[0;34m,\u001b[0m\u001b[0;36m17.447\u001b[0m\u001b[0;34m,\u001b[0m\u001b[0;36m16.713\u001b[0m\u001b[0;34m,\u001b[0m\u001b[0;36m17.784\u001b[0m\u001b[0;34m,\u001b[0m\u001b[0;36m15.808\u001b[0m\u001b[0;34m,\u001b[0m\u001b[0;36m8.853\u001b[0m\u001b[0;34m,\u001b[0m\u001b[0;36m31.408\u001b[0m\u001b[0;34m,\u001b[0m\u001b[0;36m15.326\u001b[0m\u001b[0;34m,\u001b[0m\u001b[0;36m19.278\u001b[0m\u001b[0;34m,\u001b[0m\u001b[0;36m26.845\u001b[0m\u001b[0;34m,\u001b[0m\u001b[0;36m15.927\u001b[0m\u001b[0;34m,\u001b[0m\u001b[0;36m47.747\u001b[0m\u001b[0;34m,\u001b[0m\u001b[0;36m8.715\u001b[0m\u001b[0;34m,\u001b[0m\u001b[0;36m27.903\u001b[0m\u001b[0;34m,\u001b[0m\u001b[0;36m26.047\u001b[0m\u001b[0;34m,\u001b[0m\u001b[0;36m23.27\u001b[0m\u001b[0;34m,\u001b[0m\u001b[0;36m6.521\u001b[0m\u001b[0;34m,\u001b[0m\u001b[0;36m17.133\u001b[0m\u001b[0;34m,\u001b[0m\u001b[0;36m12.074\u001b[0m\u001b[0;34m,\u001b[0m\u001b[0;36m12.233\u001b[0m\u001b[0;34m,\u001b[0m\u001b[0;36m25.07\u001b[0m\u001b[0;34m,\u001b[0m\u001b[0;36m10.383\u001b[0m\u001b[0;34m,\u001b[0m\u001b[0;36m17.123\u001b[0m\u001b[0;34m,\u001b[0m\u001b[0;36m29.766\u001b[0m\u001b[0;34m,\u001b[0m\u001b[0;36m9.839\u001b[0m\u001b[0;34m,\u001b[0m\u001b[0;36m13.161\u001b[0m\u001b[0;34m,\u001b[0m\u001b[0;36m49.956\u001b[0m\u001b[0;34m,\u001b[0m\u001b[0;36m7.713\u001b[0m\u001b[0;34m,\u001b[0m\u001b[0;36m13.386\u001b[0m\u001b[0;34m,\u001b[0m\u001b[0;36m69.657\u001b[0m\u001b[0;34m,\u001b[0m\u001b[0;36m11.157\u001b[0m\u001b[0;34m,\u001b[0m\u001b[0;36m12.625\u001b[0m\u001b[0;34m,\u001b[0m\u001b[0;36m56.229\u001b[0m\u001b[0;34m,\u001b[0m\u001b[0;36m24.347\u001b[0m\u001b[0;34m,\u001b[0m\u001b[0;36m32.245\u001b[0m\u001b[0;34m,\u001b[0m\u001b[0;36m12.05\u001b[0m\u001b[0;34m,\u001b[0m\u001b[0;36m51.473\u001b[0m\u001b[0;34m,\u001b[0m\u001b[0;36m23.231\u001b[0m\u001b[0;34m,\u001b[0m\u001b[0;36m25.446\u001b[0m\u001b[0;34m,\u001b[0m\u001b[0;36m24.799\u001b[0m\u001b[0;34m,\u001b[0m\u001b[0;36m12.403\u001b[0m\u001b[0;34m,\u001b[0m\u001b[0;36m24.809\u001b[0m\u001b[0;34m,\u001b[0m\u001b[0;36m14.249\u001b[0m\u001b[0;34m,\u001b[0m\u001b[0;36m30.84\u001b[0m\u001b[0;34m,\u001b[0m\u001b[0;36m18.836\u001b[0m\u001b[0;34m,\u001b[0m\u001b[0;36m26.65\u001b[0m\u001b[0;34m,\u001b[0m\u001b[0;36m17.614\u001b[0m\u001b[0;34m,\u001b[0m\u001b[0;36m19.912\u001b[0m\u001b[0;34m,\u001b[0m\u001b[0;36m15.246\u001b[0m\u001b[0;34m,\u001b[0m\u001b[0;36m14.528\u001b[0m\u001b[0;34m,\u001b[0m\u001b[0;36m14.687\u001b[0m\u001b[0;34m,\u001b[0m\u001b[0;36m23.516\u001b[0m\u001b[0;34m,\u001b[0m\u001b[0;36m19.446\u001b[0m\u001b[0;34m,\u001b[0m\u001b[0;36m16.483\u001b[0m\u001b[0;34m,\u001b[0m\u001b[0;36m17.259\u001b[0m\u001b[0;34m,\u001b[0m\u001b[0;36m36.957\u001b[0m\u001b[0;34m,\u001b[0m\u001b[0;36m20.684\u001b[0m\u001b[0;34m,\u001b[0m\u001b[0;36m23.97\u001b[0m\u001b[0;34m,\u001b[0m\u001b[0;36m19.753\u001b[0m\u001b[0;34m,\u001b[0m\u001b[0;36m18.422\u001b[0m\u001b[0;34m,\u001b[0m\u001b[0;36m8.074\u001b[0m\u001b[0;34m,\u001b[0m\u001b[0;36m26.845\u001b[0m\u001b[0;34m,\u001b[0m\u001b[0;36m24.06\u001b[0m\u001b[0;34m,\u001b[0m\u001b[0;36m22.435\u001b[0m\u001b[0;34m,\u001b[0m\u001b[0;36m19.529\u001b[0m\u001b[0;34m,\u001b[0m\u001b[0;36m13.366\u001b[0m\u001b[0;34m,\u001b[0m\u001b[0;36m29.441\u001b[0m\u001b[0;34m,\u001b[0m\u001b[0;36m17.665\u001b[0m\u001b[0;34m,\u001b[0m\u001b[0;36m15.173\u001b[0m\u001b[0;34m,\u001b[0m\u001b[0;36m28.412\u001b[0m\u001b[0;34m,\u001b[0m\u001b[0;36m20.738\u001b[0m\u001b[0;34m,\u001b[0m\u001b[0;36m18.337\u001b[0m\u001b[0;34m,\u001b[0m\u001b[0;36m18.333\u001b[0m\u001b[0;34m,\u001b[0m\u001b[0;36m18.716\u001b[0m\u001b[0;34m,\u001b[0m\u001b[0;36m17.692\u001b[0m\u001b[0;34m,\u001b[0m\u001b[0;36m19.708\u001b[0m\u001b[0;34m,\u001b[0m\u001b[0;36m66.959\u001b[0m\u001b[0;34m,\u001b[0m\u001b[0;36m14.197\u001b[0m\u001b[0;34m,\u001b[0m\u001b[0;36m23.372\u001b[0m\u001b[0;34m,\u001b[0m\u001b[0;36m38.279\u001b[0m\u001b[0;34m,\u001b[0m\u001b[0;36m28.548\u001b[0m\u001b[0;34m,\u001b[0m\u001b[0;36m13.802\u001b[0m\u001b[0;34m,\u001b[0m\u001b[0;36m19.117\u001b[0m\u001b[0;34m,\u001b[0m\u001b[0;36m20.845\u001b[0m\u001b[0;34m,\u001b[0m\u001b[0;36m20.826\u001b[0m\u001b[0;34m,\u001b[0m\u001b[0;36m22.336\u001b[0m\u001b[0;34m,\u001b[0m\u001b[0;36m7.906\u001b[0m\u001b[0;34m,\u001b[0m\u001b[0;36m20.119\u001b[0m\u001b[0;34m,\u001b[0m\u001b[0;36m26.018\u001b[0m\u001b[0;34m,\u001b[0m\u001b[0;36m15.717\u001b[0m\u001b[0;34m,\u001b[0m\u001b[0;36m22.475\u001b[0m\u001b[0;34m,\u001b[0m\u001b[0;36m18.757\u001b[0m\u001b[0;34m,\u001b[0m\u001b[0;36m25.396\u001b[0m\u001b[0;34m,\u001b[0m\u001b[0;36m15.436\u001b[0m\u001b[0;34m,\u001b[0m\u001b[0;36m20.871\u001b[0m\u001b[0;34m,\u001b[0m\u001b[0;36m6.818\u001b[0m\u001b[0;34m,\u001b[0m\u001b[0;36m49.347\u001b[0m\u001b[0;34m,\u001b[0m\u001b[0;36m18.76\u001b[0m\u001b[0;34m,\u001b[0m\u001b[0;36m30.994\u001b[0m\u001b[0;34m,\u001b[0m\u001b[0;36m9.429\u001b[0m\u001b[0;34m,\u001b[0m\u001b[0;36m15.289\u001b[0m\u001b[0;34m,\u001b[0m\u001b[0;36m16.573\u001b[0m\u001b[0;34m,\u001b[0m\u001b[0;36m9.157\u001b[0m\u001b[0;34m,\u001b[0m\u001b[0;36m18.127\u001b[0m\u001b[0;34m,\u001b[0m\u001b[0;36m29.324\u001b[0m\u001b[0;34m,\u001b[0m\u001b[0;36m25.723\u001b[0m\u001b[0;34m,\u001b[0m\u001b[0;36m15.026\u001b[0m\u001b[0;34m,\u001b[0m\u001b[0;36m13.322\u001b[0m\u001b[0;34m,\u001b[0m\u001b[0;36m16.055\u001b[0m\u001b[0;34m,\u001b[0m\u001b[0;36m36.944\u001b[0m\u001b[0;34m,\u001b[0m\u001b[0;36m23.912\u001b[0m\u001b[0;34m,\u001b[0m\u001b[0;36m16.526\u001b[0m\u001b[0;34m,\u001b[0m\u001b[0;36m23.112\u001b[0m\u001b[0;34m,\u001b[0m\u001b[0;36m22.882\u001b[0m\u001b[0;34m,\u001b[0m\u001b[0;36m18.472\u001b[0m\u001b[0;34m,\u001b[0m\u001b[0;36m28.782\u001b[0m\u001b[0;34m,\u001b[0m\u001b[0;36m31.385\u001b[0m\u001b[0;34m,\u001b[0m\u001b[0;36m16.518\u001b[0m\u001b[0;34m,\u001b[0m\u001b[0;36m9.354\u001b[0m\u001b[0;34m,\u001b[0m\u001b[0;36m16.233\u001b[0m\u001b[0;34m,\u001b[0m\u001b[0;36m10.718\u001b[0m\u001b[0;34m,\u001b[0m\u001b[0;36m18.11\u001b[0m\u001b[0;34m,\u001b[0m\u001b[0;36m34.937\u001b[0m\u001b[0;34m,\u001b[0m\u001b[0;36m26.726\u001b[0m\u001b[0;34m,\u001b[0m\u001b[0;36m69.101\u001b[0m\u001b[0;34m,\u001b[0m\u001b[0;36m20.964\u001b[0m\u001b[0;34m,\u001b[0m\u001b[0;36m25.451\u001b[0m\u001b[0;34m,\u001b[0m\u001b[0;36m18.018\u001b[0m\u001b[0;34m,\u001b[0m\u001b[0;36m21.317\u001b[0m\u001b[0;34m,\u001b[0m\u001b[0;36m18.729\u001b[0m\u001b[0;34m,\u001b[0m\u001b[0;36m13.707\u001b[0m\u001b[0;34m,\u001b[0m\u001b[0;36m27.663\u001b[0m\u001b[0;34m,\u001b[0m\u001b[0;36m13.352\u001b[0m\u001b[0;34m,\u001b[0m\u001b[0;36m24.922\u001b[0m\u001b[0;34m,\u001b[0m\u001b[0;36m15.496\u001b[0m\u001b[0;34m,\u001b[0m\u001b[0;36m11.069\u001b[0m\u001b[0;34m]\u001b[0m\u001b[0;34m\u001b[0m\u001b[0m\n",
      "\u001b[0;31mNameError\u001b[0m: name 'plt' is not defined"
     ]
    }
   ],
   "source": [
    "plt.show()\n",
    "plt.rcParams.update({'font.size': 11})\n",
    "plt.figure(figsize=(10, 10))\n",
    "ax1 = plt.subplot(321)\n",
    "hill_all_errors = [7.203,8.431,31.264,20.289,17.47,3.196,27.687,22.793,18.816,23.761,24.243,17.874,15.843,14.231,22.226,5.898,6.152,23.674,6.106,22.727,12.267,10.65,6.69,21.209,19.464,29.318,17.195,21.776,11.245,29.105,15.48,21.221,18.831,15.46,30.48,58.841,13.716,23.183,17.939,16.289,13.627,16.186,11.391,12.18,24.525,17.447,16.713,17.784,15.808,8.853,31.408,15.326,19.278,26.845,15.927,47.747,8.715,27.903,26.047,23.27,6.521,17.133,12.074,12.233,25.07,10.383,17.123,29.766,9.839,13.161,49.956,7.713,13.386,69.657,11.157,12.625,56.229,24.347,32.245,12.05,51.473,23.231,25.446,24.799,12.403,24.809,14.249,30.84,18.836,26.65,17.614,19.912,15.246,14.528,14.687,23.516,19.446,16.483,17.259,36.957,20.684,23.97,19.753,18.422,8.074,26.845,24.06,22.435,19.529,13.366,29.441,17.665,15.173,28.412,20.738,18.337,18.333,18.716,17.692,19.708,66.959,14.197,23.372,38.279,28.548,13.802,19.117,20.845,20.826,22.336,7.906,20.119,26.018,15.717,22.475,18.757,25.396,15.436,20.871,6.818,49.347,18.76,30.994,9.429,15.289,16.573,9.157,18.127,29.324,25.723,15.026,13.322,16.055,36.944,23.912,16.526,23.112,22.882,18.472,28.782,31.385,16.518,9.354,16.233,10.718,18.11,34.937,26.726,69.101,20.964,25.451,18.018,21.317,18.729,13.707,27.663,13.352,24.922,15.496,11.069]\n",
    "plt.hist(hill_all_errors, color='LightGray', range=[0, 80])\n",
    "plt.title('HC')\n",
    "#ax1.set_xlabel('MFCC error')\n",
    "\n",
    "#plt.title('Hill climber error distribution for test set 6')\n",
    "#plt.savefig('hill.pdf')\n",
    "ax2 = plt.subplot(322)\n",
    "ax2.set_ylim((0, 80))\n",
    "#ax2.set_xlabel('MFCC error')\n",
    "\n",
    "plt.hist(lstm_plus, color='LightGray', range=(0, 80))\n",
    "plt.title('LSTM++')\n",
    "\n",
    "mlp_all_errors = [27.178,24.132,18.178,24.892,26.711,16.302,34.744,20.665,15.807,22.535,20.32,26.003,20.085,24.826,26.363,20.031,18.991,26.531,22.574,13.366,13.967,19.127,20.573,23.786,21.772,20.89,29.082,29.61,23.808,83.133,73.025,27.645,33.069,25.023,24.924,70.491,26.838,30.563,23.567,23.478,31.559,22.215,26.136,25.4,68.849,25.578,23.796,25.091,21.095,29.608,70.42,26.994,20.677,69.795,25.014,67.762,25.054,28.822,70.569,20.718,21.685,19.895,17.338,29.074,21.684,27.993,9.824,22.898,20.997,14.362,85.099,20.756,18.006,84.883,31.857,23.399,84.897,25.921,19.758,27.192,83.708,30.403,24.851,85.288,37.105,25.84,23.795,26.661,24.439,20.304,19.031,84.85,22.92,17.981,21.341,11.272,24.077,29.699,23.431,83.108,21.62,29.311,22.309,28.627,24.782,21.506,26.819,22.007,20.158,27.512,28.839,22.246,15.507,20.417,23.223,16.524,24.51,26.2,19.603,23.232,15.463,83.957,28.733,83.813,27.543,26.884,15.616,21.937,22.967,29.745,24.903,24.069,28.366,30.017,28.797,24.255,23.263,30.943,25.496,27.65,83.143,26.753,84.877,31.37,22.989,22.164,26.194,22.929,21.273,17.336,20.399,18.23,22.766,84.839,25.196,20.355,16.63,25.4,12.584,21.356,17.84,18.997,14.891,17.477,19.564,21.66,83.624,22.85,85.278,24.767,21.441,26.204,18.981,84.307,25.65,85.225,20.222,25.149,25.413,14.205]\n",
    "lstm_all_errors = [23.922,13.786,17.477,25.476,28.849,15.608,24.355,28.359,18.545,23.357,25.984,24.548,30.368,24.223,24.44,19.317,17.781,25.3,14.776,12.622,15.383,17.625,21.945,27.993,31.258,26.544,22.563,22.024,12.833,83.111,83.735,30.332,31.462,26.331,20.989,83.438,25.921,27.565,24.362,29.484,20.879,24.132,12.032,11.315,68.229,24.318,24.409,23.508,25.382,28.399,85.015,27.674,26.67,84.555,25.85,68.663,12.836,29.845,84.887,25.462,10.543,28.619,23.687,17.466,28.048,19.893,24.717,22.594,20.08,13.822,85.114,17.327,25.649,84.893,30.548,16.955,84.869,25.858,22.411,22.006,83.715,21.257,29.914,85.297,37.445,20.776,23.694,26.663,18.947,22.175,28.685,84.871,14.819,21.318,12.503,11.534,15.615,24.876,19.994,83.072,25.018,16.961,31.517,21.729,14.34,23.332,19.914,22.6,20.442,19.132,21.355,30.911,17.879,16.321,15.77,21.98,23.256,24.924,21.716,21.476,21.24,83.942,14.431,83.828,25.673,26.655,21.9,17.911,21.739,32.585,15.084,19.612,20.683,17.366,25.19,26.459,21.695,30.78,21.762,11.899,83.127,22.045,84.868,17.38,20.675,24.782,14.922,25.853,15.66,21.613,15.908,23.925,24.096,84.909,25.499,15.705,24.897,29.377,11.951,26.867,14.982,24.494,25.373,20.139,20.997,17.542,83.65,19.694,85.248,24.07,23.34,28.867,25.559,84.297,28.774,85.22,18.845,22.634,27.839,18.091] \n",
    "ga_all_errors = [15.27,13.856,24.564,33.666,58.445,18.23,34.28,17.792,21.641,22.576,17.543,22.072,17.795,22.089,23.045,10.506,5.66,21.459,8.364,26.621,25.461,29.213,12.971,21.228,21.035,27.813,21.693,22.727,10.804,67.592,104.93,33.342,24.939,16.401,28.422,83.321,30.335,27.175,17.338,30.94,23.526,25.532,25.245,25.633,64.785,19.541,16.869,18.319,19.964,33.734,85.509,17.83,28.037,84.549,23.751,67.047,14.003,27.131,85.433,23.992,6.632,18.883,14.673,14.056,25.148,11.557,16.261,25.674,9.401,23.249,85.135,7.755,28.815,84.911,27.263,24.27,84.893,26.274,19.678,12.743,83.707,21,25.745,85.22,75.292,28.553,16.683,23.643,12.541,21.253,28.69,84.844,14.328,12.48,14.254,20.525,20.518,27.351,64.1,104.287,20.493,40.691,20.444,22.587,7.533,18.641,23.502,14.851,24.616,17.402,22.843,22.256,13.283,19.928,14.125,19.568,30.023,32.046,34.744,20.211,17.887,83.954,15.086,83.793,23.049,35.646,23.371,8.235,30.043,26.873,13.829,15.54,26.696,6.193,21.748,18.827,14.521,29.755,26.732,7.178,83.44,22.622,84.839,25.919,23.626,14.218,8.697,17.427,11.622,22.202,19.767,18.829,25.092,85.436,23.992,19.807,11.478,29.176,20.067,18.545,21.623,16.354,10.647,24.16,14.892,21.702,83.937,23.315,85.601,19.121,18.474,19.843,26.365,84.275,32.221,85.144,28.477,19.321,23.977,7.836]\n",
    "\n",
    "ax3 = plt.subplot(323)\n",
    "ax3.set_ylim((0, 80))\n",
    "#ax3.set_xlabel('MFCC error')\n",
    "plt.hist(lstm_all_errors, color='LightGray', range=(0, 80))\n",
    "plt.title('LSTM')\n",
    "\n",
    "ax4 = plt.subplot(324)\n",
    "ax4.set_ylim((0, 80))\n",
    "#ax4.set_xlabel('MFCC error')\n",
    "plt.hist(ga_all_errors, color='LightGray', range=(0, 80))\n",
    "plt.title('GA')\n",
    "\n",
    "ax5 = plt.subplot(325)\n",
    "ax5.set_ylim((0, 80))\n",
    "\n",
    "\n",
    "#ax5.set_xlabel('MFCC error')\n",
    "plt.hist(mlp_all_errors, color='LightGray', range=(0, 80))\n",
    "plt.title('MLP')\n",
    "\n",
    "\n",
    "\n",
    "plt.suptitle(\"Distributions of MFCC errors over all test sets\", fontsize=14)\n",
    "plt.gcf().subplots_adjust(bottom=0.05)\n",
    "plt.savefig('allerrors.pdf')\n",
    "\n"
   ]
  },
  {
   "cell_type": "code",
   "execution_count": 56,
   "metadata": {},
   "outputs": [],
   "source": [
    "import matplotlib.pyplot as plt\n",
    "import matplotlib.gridspec as gridspec\n",
    "gs = gridspec.GridSpec(3, 4)\n",
    "plt.clf()\n",
    "# ax1 = plt.subplot(gs[0, 0:2])\n",
    "# ax2 = plt.subplot(gs[0,2:])\n",
    "# ax3 = plt.subplot(gs[1,0:2])\n",
    "# ax4 = plt.subplot(gs[1,2:])\n",
    "# ax5 = plt.subplot(gs[2,0:2])\n",
    "# ax6 = plt.subplot(gs[2,2:])\n",
    "# ax7 = plt.subplot(gs[3,1:3])\n",
    "\n",
    "\n",
    "#plt.show()\n",
    "plt.rcParams.update({'font.size': 11})\n",
    "plt.figure(figsize=(10, 12))\n",
    "#ax1 = plt.subplot(321)\n",
    "ax1 = plt.subplot(gs[0, 0:2])\n",
    "\n",
    "hill_all_errors = [7.203,8.431,31.264,20.289,17.47,3.196,27.687,22.793,18.816,23.761,24.243,17.874,15.843,14.231,22.226,5.898,6.152,23.674,6.106,22.727,12.267,10.65,6.69,21.209,19.464,29.318,17.195,21.776,11.245,29.105,15.48,21.221,18.831,15.46,30.48,58.841,13.716,23.183,17.939,16.289,13.627,16.186,11.391,12.18,24.525,17.447,16.713,17.784,15.808,8.853,31.408,15.326,19.278,26.845,15.927,47.747,8.715,27.903,26.047,23.27,6.521,17.133,12.074,12.233,25.07,10.383,17.123,29.766,9.839,13.161,49.956,7.713,13.386,69.657,11.157,12.625,56.229,24.347,32.245,12.05,51.473,23.231,25.446,24.799,12.403,24.809,14.249,30.84,18.836,26.65,17.614,19.912,15.246,14.528,14.687,23.516,19.446,16.483,17.259,36.957,20.684,23.97,19.753,18.422,8.074,26.845,24.06,22.435,19.529,13.366,29.441,17.665,15.173,28.412,20.738,18.337,18.333,18.716,17.692,19.708,66.959,14.197,23.372,38.279,28.548,13.802,19.117,20.845,20.826,22.336,7.906,20.119,26.018,15.717,22.475,18.757,25.396,15.436,20.871,6.818,49.347,18.76,30.994,9.429,15.289,16.573,9.157,18.127,29.324,25.723,15.026,13.322,16.055,36.944,23.912,16.526,23.112,22.882,18.472,28.782,31.385,16.518,9.354,16.233,10.718,18.11,34.937,26.726,69.101,20.964,25.451,18.018,21.317,18.729,13.707,27.663,13.352,24.922,15.496,11.069]\n",
    "plt.hist(hill_all_errors, color='LightGray', range=[0, 80])\n",
    "plt.title('HC')\n",
    "#ax1.set_xlabel('MFCC error')\n",
    "\n",
    "#plt.title('Hill climber error distribution for test set 6')\n",
    "#plt.savefig('hill.pdf')\n",
    "#ax2 = plt.subplot(322)\n",
    "ax2 = plt.subplot(gs[0,2:])\n",
    "\n",
    "ax2.set_ylim((0, 80))\n",
    "#ax2.set_xlabel('MFCC error')\n",
    "\n",
    "plt.hist(lstm_plus, color='LightGray', range=(0, 80))\n",
    "plt.title('LSTM++')\n",
    "\n",
    "mlp_all_errors = [27.178,24.132,18.178,24.892,26.711,16.302,34.744,20.665,15.807,22.535,20.32,26.003,20.085,24.826,26.363,20.031,18.991,26.531,22.574,13.366,13.967,19.127,20.573,23.786,21.772,20.89,29.082,29.61,23.808,83.133,73.025,27.645,33.069,25.023,24.924,70.491,26.838,30.563,23.567,23.478,31.559,22.215,26.136,25.4,68.849,25.578,23.796,25.091,21.095,29.608,70.42,26.994,20.677,69.795,25.014,67.762,25.054,28.822,70.569,20.718,21.685,19.895,17.338,29.074,21.684,27.993,9.824,22.898,20.997,14.362,85.099,20.756,18.006,84.883,31.857,23.399,84.897,25.921,19.758,27.192,83.708,30.403,24.851,85.288,37.105,25.84,23.795,26.661,24.439,20.304,19.031,84.85,22.92,17.981,21.341,11.272,24.077,29.699,23.431,83.108,21.62,29.311,22.309,28.627,24.782,21.506,26.819,22.007,20.158,27.512,28.839,22.246,15.507,20.417,23.223,16.524,24.51,26.2,19.603,23.232,15.463,83.957,28.733,83.813,27.543,26.884,15.616,21.937,22.967,29.745,24.903,24.069,28.366,30.017,28.797,24.255,23.263,30.943,25.496,27.65,83.143,26.753,84.877,31.37,22.989,22.164,26.194,22.929,21.273,17.336,20.399,18.23,22.766,84.839,25.196,20.355,16.63,25.4,12.584,21.356,17.84,18.997,14.891,17.477,19.564,21.66,83.624,22.85,85.278,24.767,21.441,26.204,18.981,84.307,25.65,85.225,20.222,25.149,25.413,14.205]\n",
    "lstm_all_errors = [23.922,13.786,17.477,25.476,28.849,15.608,24.355,28.359,18.545,23.357,25.984,24.548,30.368,24.223,24.44,19.317,17.781,25.3,14.776,12.622,15.383,17.625,21.945,27.993,31.258,26.544,22.563,22.024,12.833,83.111,83.735,30.332,31.462,26.331,20.989,83.438,25.921,27.565,24.362,29.484,20.879,24.132,12.032,11.315,68.229,24.318,24.409,23.508,25.382,28.399,85.015,27.674,26.67,84.555,25.85,68.663,12.836,29.845,84.887,25.462,10.543,28.619,23.687,17.466,28.048,19.893,24.717,22.594,20.08,13.822,85.114,17.327,25.649,84.893,30.548,16.955,84.869,25.858,22.411,22.006,83.715,21.257,29.914,85.297,37.445,20.776,23.694,26.663,18.947,22.175,28.685,84.871,14.819,21.318,12.503,11.534,15.615,24.876,19.994,83.072,25.018,16.961,31.517,21.729,14.34,23.332,19.914,22.6,20.442,19.132,21.355,30.911,17.879,16.321,15.77,21.98,23.256,24.924,21.716,21.476,21.24,83.942,14.431,83.828,25.673,26.655,21.9,17.911,21.739,32.585,15.084,19.612,20.683,17.366,25.19,26.459,21.695,30.78,21.762,11.899,83.127,22.045,84.868,17.38,20.675,24.782,14.922,25.853,15.66,21.613,15.908,23.925,24.096,84.909,25.499,15.705,24.897,29.377,11.951,26.867,14.982,24.494,25.373,20.139,20.997,17.542,83.65,19.694,85.248,24.07,23.34,28.867,25.559,84.297,28.774,85.22,18.845,22.634,27.839,18.091] \n",
    "ga_all_errors = [15.27,13.856,24.564,33.666,58.445,18.23,34.28,17.792,21.641,22.576,17.543,22.072,17.795,22.089,23.045,10.506,5.66,21.459,8.364,26.621,25.461,29.213,12.971,21.228,21.035,27.813,21.693,22.727,10.804,67.592,104.93,33.342,24.939,16.401,28.422,83.321,30.335,27.175,17.338,30.94,23.526,25.532,25.245,25.633,64.785,19.541,16.869,18.319,19.964,33.734,85.509,17.83,28.037,84.549,23.751,67.047,14.003,27.131,85.433,23.992,6.632,18.883,14.673,14.056,25.148,11.557,16.261,25.674,9.401,23.249,85.135,7.755,28.815,84.911,27.263,24.27,84.893,26.274,19.678,12.743,83.707,21,25.745,85.22,75.292,28.553,16.683,23.643,12.541,21.253,28.69,84.844,14.328,12.48,14.254,20.525,20.518,27.351,64.1,104.287,20.493,40.691,20.444,22.587,7.533,18.641,23.502,14.851,24.616,17.402,22.843,22.256,13.283,19.928,14.125,19.568,30.023,32.046,34.744,20.211,17.887,83.954,15.086,83.793,23.049,35.646,23.371,8.235,30.043,26.873,13.829,15.54,26.696,6.193,21.748,18.827,14.521,29.755,26.732,7.178,83.44,22.622,84.839,25.919,23.626,14.218,8.697,17.427,11.622,22.202,19.767,18.829,25.092,85.436,23.992,19.807,11.478,29.176,20.067,18.545,21.623,16.354,10.647,24.16,14.892,21.702,83.937,23.315,85.601,19.121,18.474,19.843,26.365,84.275,32.221,85.144,28.477,19.321,23.977,7.836]\n",
    "\n",
    "#ax3 = plt.subplot(323)\n",
    "ax3 = plt.subplot(gs[1,0:2])\n",
    "\n",
    "ax3.set_ylim((0, 80))\n",
    "#ax3.set_xlabel('MFCC error')\n",
    "plt.hist(lstm_all_errors, color='LightGray', range=(0, 80))\n",
    "plt.title('LSTM')\n",
    "\n",
    "#ax4 = plt.subplot(324)\n",
    "ax4 = plt.subplot(gs[1,2:])\n",
    "\n",
    "ax4.set_ylim((0, 80))\n",
    "#ax4.set_xlabel('MFCC error')\n",
    "plt.hist(ga_all_errors, color='LightGray', range=(0, 80))\n",
    "plt.title('GA')\n",
    "\n",
    "#ax5 = plt.subplot(325)\n",
    "ax5 = plt.subplot(gs[2,1:3])\n",
    "\n",
    "ax5.set_ylim((0, 80))\n",
    "ax5.hist(mlp_all_errors, color='LightGray', range=(0, 80))\n",
    "plt.title('MLP')\n",
    "\n",
    "\n",
    "plt.suptitle(\"Distributions of MFCC errors over all test items\", fontsize=14)\n",
    "plt.gcf().subplots_adjust(bottom=0.04)\n",
    "#plt.show()\n",
    "plt.savefig('allerrors.pdf')\n",
    "\n"
   ]
  },
  {
   "cell_type": "code",
   "execution_count": null,
   "metadata": {},
   "outputs": [],
   "source": []
  },
  {
   "cell_type": "code",
   "execution_count": null,
   "metadata": {},
   "outputs": [],
   "source": []
  }
 ],
 "metadata": {
  "kernelspec": {
   "display_name": "Python 2",
   "language": "python",
   "name": "python2"
  },
  "language_info": {
   "codemirror_mode": {
    "name": "ipython",
    "version": 2
   },
   "file_extension": ".py",
   "mimetype": "text/x-python",
   "name": "python",
   "nbconvert_exporter": "python",
   "pygments_lexer": "ipython2",
   "version": "2.7.12"
  }
 },
 "nbformat": 4,
 "nbformat_minor": 2
}
